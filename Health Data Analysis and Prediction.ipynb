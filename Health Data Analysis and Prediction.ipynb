{
 "cells": [
  {
   "cell_type": "markdown",
   "id": "fd3a300e-06c9-43f2-a6ec-7eb36cdc0287",
   "metadata": {},
   "source": [
    "## Healthcare data analysis and predict the chances of having a favourable outcome"
   ]
  },
  {
   "cell_type": "code",
   "execution_count": 1,
   "id": "9b63c716-548a-45d5-8308-005877806e2b",
   "metadata": {},
   "outputs": [
    {
     "name": "stderr",
     "output_type": "stream",
     "text": [
      "In /Users/venkatsrinidhivaddy/opt/anaconda3/lib/python3.9/site-packages/matplotlib/mpl-data/stylelib/_classic_test.mplstyle: \n",
      "The text.latex.preview rcparam was deprecated in Matplotlib 3.3 and will be removed two minor releases later.\n",
      "In /Users/venkatsrinidhivaddy/opt/anaconda3/lib/python3.9/site-packages/matplotlib/mpl-data/stylelib/_classic_test.mplstyle: \n",
      "The mathtext.fallback_to_cm rcparam was deprecated in Matplotlib 3.3 and will be removed two minor releases later.\n",
      "In /Users/venkatsrinidhivaddy/opt/anaconda3/lib/python3.9/site-packages/matplotlib/mpl-data/stylelib/_classic_test.mplstyle: Support for setting the 'mathtext.fallback_to_cm' rcParam is deprecated since 3.3 and will be removed two minor releases later; use 'mathtext.fallback : 'cm' instead.\n",
      "In /Users/venkatsrinidhivaddy/opt/anaconda3/lib/python3.9/site-packages/matplotlib/mpl-data/stylelib/_classic_test.mplstyle: \n",
      "The validate_bool_maybe_none function was deprecated in Matplotlib 3.3 and will be removed two minor releases later.\n",
      "In /Users/venkatsrinidhivaddy/opt/anaconda3/lib/python3.9/site-packages/matplotlib/mpl-data/stylelib/_classic_test.mplstyle: \n",
      "The savefig.jpeg_quality rcparam was deprecated in Matplotlib 3.3 and will be removed two minor releases later.\n",
      "In /Users/venkatsrinidhivaddy/opt/anaconda3/lib/python3.9/site-packages/matplotlib/mpl-data/stylelib/_classic_test.mplstyle: \n",
      "The keymap.all_axes rcparam was deprecated in Matplotlib 3.3 and will be removed two minor releases later.\n",
      "In /Users/venkatsrinidhivaddy/opt/anaconda3/lib/python3.9/site-packages/matplotlib/mpl-data/stylelib/_classic_test.mplstyle: \n",
      "The animation.avconv_path rcparam was deprecated in Matplotlib 3.3 and will be removed two minor releases later.\n",
      "In /Users/venkatsrinidhivaddy/opt/anaconda3/lib/python3.9/site-packages/matplotlib/mpl-data/stylelib/_classic_test.mplstyle: \n",
      "The animation.avconv_args rcparam was deprecated in Matplotlib 3.3 and will be removed two minor releases later.\n"
     ]
    }
   ],
   "source": [
    "#load the libraries\n",
    "import numpy as np # linear algebra\n",
    "import pandas as pd # data processing, CSV file I/O (e.g. pd.read_csv)\n",
    "import matplotlib.pyplot as plt\n",
    "import seaborn as sns"
   ]
  },
  {
   "cell_type": "code",
   "execution_count": 4,
   "id": "f5d02049-9d3d-4cbc-b0cc-a8cfc59d7974",
   "metadata": {},
   "outputs": [],
   "source": [
    "#loading all the datasets\n",
    "data_dictionary = pd.read_excel(\"Data_Dictionary.xlsx\")\n",
    "first_health_camp = pd.read_csv(\"First_Health_Camp_Attended.csv\")\n",
    "health_camp_details = pd.read_csv(\"Health_Camp_Detail.csv\")\n",
    "patient_profile = pd.read_csv(\"Patient_Profile.csv\")\n",
    "second_health_camp = pd.read_csv(\"Second_Health_Camp_Attended.csv\")\n",
    "third_health_camp = pd.read_csv(\"Third_Health_Camp_Attended.csv\")\n",
    "train = pd.read_csv(\"Train.csv\")\n",
    "test = pd.read_csv(\"test.csv\")"
   ]
  },
  {
   "cell_type": "code",
   "execution_count": 5,
   "id": "277bfaf0-b87a-402d-b769-723a85c2c601",
   "metadata": {},
   "outputs": [
    {
     "data": {
      "text/html": [
       "<div>\n",
       "<style scoped>\n",
       "    .dataframe tbody tr th:only-of-type {\n",
       "        vertical-align: middle;\n",
       "    }\n",
       "\n",
       "    .dataframe tbody tr th {\n",
       "        vertical-align: top;\n",
       "    }\n",
       "\n",
       "    .dataframe thead th {\n",
       "        text-align: right;\n",
       "    }\n",
       "</style>\n",
       "<table border=\"1\" class=\"dataframe\">\n",
       "  <thead>\n",
       "    <tr style=\"text-align: right;\">\n",
       "      <th></th>\n",
       "      <th>Details of the Files</th>\n",
       "    </tr>\n",
       "  </thead>\n",
       "  <tbody>\n",
       "    <tr>\n",
       "      <th>0</th>\n",
       "      <td>Health_Camp_Detail.csv – File containing Healt...</td>\n",
       "    </tr>\n",
       "    <tr>\n",
       "      <th>1</th>\n",
       "      <td>Train.csv – File containing registration detai...</td>\n",
       "    </tr>\n",
       "    <tr>\n",
       "      <th>2</th>\n",
       "      <td>Patient_Profile.csv – This file contains Patie...</td>\n",
       "    </tr>\n",
       "    <tr>\n",
       "      <th>3</th>\n",
       "      <td>First_Health_Camp_Attended.csv – This file con...</td>\n",
       "    </tr>\n",
       "    <tr>\n",
       "      <th>4</th>\n",
       "      <td>Second_Health_Camp_Attended.csv - This file co...</td>\n",
       "    </tr>\n",
       "  </tbody>\n",
       "</table>\n",
       "</div>"
      ],
      "text/plain": [
       "                                Details of the Files\n",
       "0  Health_Camp_Detail.csv – File containing Healt...\n",
       "1  Train.csv – File containing registration detai...\n",
       "2  Patient_Profile.csv – This file contains Patie...\n",
       "3  First_Health_Camp_Attended.csv – This file con...\n",
       "4  Second_Health_Camp_Attended.csv - This file co..."
      ]
     },
     "execution_count": 5,
     "metadata": {},
     "output_type": "execute_result"
    }
   ],
   "source": [
    "data_dictionary.head()"
   ]
  },
  {
   "cell_type": "code",
   "execution_count": 6,
   "id": "74df4458-77d4-4e30-b4bc-01ffb12b04e6",
   "metadata": {},
   "outputs": [
    {
     "data": {
      "text/html": [
       "<div>\n",
       "<style scoped>\n",
       "    .dataframe tbody tr th:only-of-type {\n",
       "        vertical-align: middle;\n",
       "    }\n",
       "\n",
       "    .dataframe tbody tr th {\n",
       "        vertical-align: top;\n",
       "    }\n",
       "\n",
       "    .dataframe thead th {\n",
       "        text-align: right;\n",
       "    }\n",
       "</style>\n",
       "<table border=\"1\" class=\"dataframe\">\n",
       "  <thead>\n",
       "    <tr style=\"text-align: right;\">\n",
       "      <th></th>\n",
       "      <th>Patient_ID</th>\n",
       "      <th>Health_Camp_ID</th>\n",
       "      <th>Donation</th>\n",
       "      <th>Health_Score</th>\n",
       "      <th>Unnamed: 4</th>\n",
       "    </tr>\n",
       "  </thead>\n",
       "  <tbody>\n",
       "    <tr>\n",
       "      <th>0</th>\n",
       "      <td>506181</td>\n",
       "      <td>6560</td>\n",
       "      <td>40</td>\n",
       "      <td>0.439024</td>\n",
       "      <td>NaN</td>\n",
       "    </tr>\n",
       "    <tr>\n",
       "      <th>1</th>\n",
       "      <td>494977</td>\n",
       "      <td>6560</td>\n",
       "      <td>20</td>\n",
       "      <td>0.097561</td>\n",
       "      <td>NaN</td>\n",
       "    </tr>\n",
       "    <tr>\n",
       "      <th>2</th>\n",
       "      <td>518680</td>\n",
       "      <td>6560</td>\n",
       "      <td>10</td>\n",
       "      <td>0.048780</td>\n",
       "      <td>NaN</td>\n",
       "    </tr>\n",
       "    <tr>\n",
       "      <th>3</th>\n",
       "      <td>509916</td>\n",
       "      <td>6560</td>\n",
       "      <td>30</td>\n",
       "      <td>0.634146</td>\n",
       "      <td>NaN</td>\n",
       "    </tr>\n",
       "    <tr>\n",
       "      <th>4</th>\n",
       "      <td>488006</td>\n",
       "      <td>6560</td>\n",
       "      <td>20</td>\n",
       "      <td>0.024390</td>\n",
       "      <td>NaN</td>\n",
       "    </tr>\n",
       "  </tbody>\n",
       "</table>\n",
       "</div>"
      ],
      "text/plain": [
       "   Patient_ID  Health_Camp_ID  Donation  Health_Score  Unnamed: 4\n",
       "0      506181            6560        40      0.439024         NaN\n",
       "1      494977            6560        20      0.097561         NaN\n",
       "2      518680            6560        10      0.048780         NaN\n",
       "3      509916            6560        30      0.634146         NaN\n",
       "4      488006            6560        20      0.024390         NaN"
      ]
     },
     "execution_count": 6,
     "metadata": {},
     "output_type": "execute_result"
    }
   ],
   "source": [
    "#data on the first type of health camp that collects donations and provides a rapid health score\n",
    "first_health_camp.head()"
   ]
  },
  {
   "cell_type": "code",
   "execution_count": 7,
   "id": "dc37551b-8fb9-4ed1-b5f1-4ab96d5af3c1",
   "metadata": {},
   "outputs": [
    {
     "data": {
      "text/html": [
       "<div>\n",
       "<style scoped>\n",
       "    .dataframe tbody tr th:only-of-type {\n",
       "        vertical-align: middle;\n",
       "    }\n",
       "\n",
       "    .dataframe tbody tr th {\n",
       "        vertical-align: top;\n",
       "    }\n",
       "\n",
       "    .dataframe thead th {\n",
       "        text-align: right;\n",
       "    }\n",
       "</style>\n",
       "<table border=\"1\" class=\"dataframe\">\n",
       "  <thead>\n",
       "    <tr style=\"text-align: right;\">\n",
       "      <th></th>\n",
       "      <th>Patient_ID</th>\n",
       "      <th>Health_Camp_ID</th>\n",
       "      <th>Health Score</th>\n",
       "    </tr>\n",
       "  </thead>\n",
       "  <tbody>\n",
       "    <tr>\n",
       "      <th>0</th>\n",
       "      <td>526631</td>\n",
       "      <td>6536</td>\n",
       "      <td>0.875136</td>\n",
       "    </tr>\n",
       "    <tr>\n",
       "      <th>1</th>\n",
       "      <td>509122</td>\n",
       "      <td>6536</td>\n",
       "      <td>0.755700</td>\n",
       "    </tr>\n",
       "    <tr>\n",
       "      <th>2</th>\n",
       "      <td>498864</td>\n",
       "      <td>6536</td>\n",
       "      <td>0.673181</td>\n",
       "    </tr>\n",
       "    <tr>\n",
       "      <th>3</th>\n",
       "      <td>515398</td>\n",
       "      <td>6536</td>\n",
       "      <td>0.722041</td>\n",
       "    </tr>\n",
       "    <tr>\n",
       "      <th>4</th>\n",
       "      <td>504624</td>\n",
       "      <td>6536</td>\n",
       "      <td>0.464712</td>\n",
       "    </tr>\n",
       "  </tbody>\n",
       "</table>\n",
       "</div>"
      ],
      "text/plain": [
       "   Patient_ID  Health_Camp_ID  Health Score\n",
       "0      526631            6536      0.875136\n",
       "1      509122            6536      0.755700\n",
       "2      498864            6536      0.673181\n",
       "3      515398            6536      0.722041\n",
       "4      504624            6536      0.464712"
      ]
     },
     "execution_count": 7,
     "metadata": {},
     "output_type": "execute_result"
    }
   ],
   "source": [
    "#data on the second type of health camp that provides a rapid health score\n",
    "second_health_camp.head()"
   ]
  },
  {
   "cell_type": "code",
   "execution_count": 8,
   "id": "c4f42a73-1a20-4be5-b9d7-8574edb1a2f4",
   "metadata": {},
   "outputs": [
    {
     "data": {
      "text/html": [
       "<div>\n",
       "<style scoped>\n",
       "    .dataframe tbody tr th:only-of-type {\n",
       "        vertical-align: middle;\n",
       "    }\n",
       "\n",
       "    .dataframe tbody tr th {\n",
       "        vertical-align: top;\n",
       "    }\n",
       "\n",
       "    .dataframe thead th {\n",
       "        text-align: right;\n",
       "    }\n",
       "</style>\n",
       "<table border=\"1\" class=\"dataframe\">\n",
       "  <thead>\n",
       "    <tr style=\"text-align: right;\">\n",
       "      <th></th>\n",
       "      <th>Patient_ID</th>\n",
       "      <th>Health_Camp_ID</th>\n",
       "      <th>Number_of_stall_visited</th>\n",
       "      <th>Last_Stall_Visited_Number</th>\n",
       "    </tr>\n",
       "  </thead>\n",
       "  <tbody>\n",
       "    <tr>\n",
       "      <th>0</th>\n",
       "      <td>517875</td>\n",
       "      <td>6527</td>\n",
       "      <td>3</td>\n",
       "      <td>1</td>\n",
       "    </tr>\n",
       "    <tr>\n",
       "      <th>1</th>\n",
       "      <td>504692</td>\n",
       "      <td>6578</td>\n",
       "      <td>1</td>\n",
       "      <td>1</td>\n",
       "    </tr>\n",
       "    <tr>\n",
       "      <th>2</th>\n",
       "      <td>504692</td>\n",
       "      <td>6527</td>\n",
       "      <td>3</td>\n",
       "      <td>1</td>\n",
       "    </tr>\n",
       "    <tr>\n",
       "      <th>3</th>\n",
       "      <td>493167</td>\n",
       "      <td>6527</td>\n",
       "      <td>4</td>\n",
       "      <td>4</td>\n",
       "    </tr>\n",
       "    <tr>\n",
       "      <th>4</th>\n",
       "      <td>510954</td>\n",
       "      <td>6528</td>\n",
       "      <td>2</td>\n",
       "      <td>2</td>\n",
       "    </tr>\n",
       "  </tbody>\n",
       "</table>\n",
       "</div>"
      ],
      "text/plain": [
       "   Patient_ID  Health_Camp_ID  Number_of_stall_visited  \\\n",
       "0      517875            6527                        3   \n",
       "1      504692            6578                        1   \n",
       "2      504692            6527                        3   \n",
       "3      493167            6527                        4   \n",
       "4      510954            6528                        2   \n",
       "\n",
       "   Last_Stall_Visited_Number  \n",
       "0                          1  \n",
       "1                          1  \n",
       "2                          1  \n",
       "3                          4  \n",
       "4                          2  "
      ]
     },
     "execution_count": 8,
     "metadata": {},
     "output_type": "execute_result"
    }
   ],
   "source": [
    "#data on the third type of health camp that provides information of health camp to provides information about several health issues through various awareness stalls.\n",
    "third_health_camp.head()"
   ]
  },
  {
   "cell_type": "code",
   "execution_count": 9,
   "id": "0063cf4b-d19f-4136-bf8b-2c8d791946a0",
   "metadata": {},
   "outputs": [
    {
     "data": {
      "text/html": [
       "<div>\n",
       "<style scoped>\n",
       "    .dataframe tbody tr th:only-of-type {\n",
       "        vertical-align: middle;\n",
       "    }\n",
       "\n",
       "    .dataframe tbody tr th {\n",
       "        vertical-align: top;\n",
       "    }\n",
       "\n",
       "    .dataframe thead th {\n",
       "        text-align: right;\n",
       "    }\n",
       "</style>\n",
       "<table border=\"1\" class=\"dataframe\">\n",
       "  <thead>\n",
       "    <tr style=\"text-align: right;\">\n",
       "      <th></th>\n",
       "      <th>Patient_ID</th>\n",
       "      <th>Online_Follower</th>\n",
       "      <th>LinkedIn_Shared</th>\n",
       "      <th>Twitter_Shared</th>\n",
       "      <th>Facebook_Shared</th>\n",
       "      <th>Income</th>\n",
       "      <th>Education_Score</th>\n",
       "      <th>Age</th>\n",
       "      <th>First_Interaction</th>\n",
       "      <th>City_Type</th>\n",
       "      <th>Employer_Category</th>\n",
       "    </tr>\n",
       "  </thead>\n",
       "  <tbody>\n",
       "    <tr>\n",
       "      <th>0</th>\n",
       "      <td>516956</td>\n",
       "      <td>0</td>\n",
       "      <td>0</td>\n",
       "      <td>0</td>\n",
       "      <td>0</td>\n",
       "      <td>1</td>\n",
       "      <td>90</td>\n",
       "      <td>39</td>\n",
       "      <td>18-Jun-03</td>\n",
       "      <td>NaN</td>\n",
       "      <td>Software Industry</td>\n",
       "    </tr>\n",
       "    <tr>\n",
       "      <th>1</th>\n",
       "      <td>507733</td>\n",
       "      <td>0</td>\n",
       "      <td>0</td>\n",
       "      <td>0</td>\n",
       "      <td>0</td>\n",
       "      <td>1</td>\n",
       "      <td>None</td>\n",
       "      <td>40</td>\n",
       "      <td>20-Jul-03</td>\n",
       "      <td>H</td>\n",
       "      <td>Software Industry</td>\n",
       "    </tr>\n",
       "    <tr>\n",
       "      <th>2</th>\n",
       "      <td>508307</td>\n",
       "      <td>0</td>\n",
       "      <td>0</td>\n",
       "      <td>0</td>\n",
       "      <td>0</td>\n",
       "      <td>3</td>\n",
       "      <td>87</td>\n",
       "      <td>46</td>\n",
       "      <td>02-Nov-02</td>\n",
       "      <td>D</td>\n",
       "      <td>BFSI</td>\n",
       "    </tr>\n",
       "    <tr>\n",
       "      <th>3</th>\n",
       "      <td>512612</td>\n",
       "      <td>0</td>\n",
       "      <td>0</td>\n",
       "      <td>0</td>\n",
       "      <td>0</td>\n",
       "      <td>1</td>\n",
       "      <td>75</td>\n",
       "      <td>47</td>\n",
       "      <td>02-Nov-02</td>\n",
       "      <td>D</td>\n",
       "      <td>Education</td>\n",
       "    </tr>\n",
       "    <tr>\n",
       "      <th>4</th>\n",
       "      <td>521075</td>\n",
       "      <td>0</td>\n",
       "      <td>0</td>\n",
       "      <td>0</td>\n",
       "      <td>0</td>\n",
       "      <td>3</td>\n",
       "      <td>None</td>\n",
       "      <td>80</td>\n",
       "      <td>24-Nov-02</td>\n",
       "      <td>H</td>\n",
       "      <td>Others</td>\n",
       "    </tr>\n",
       "  </tbody>\n",
       "</table>\n",
       "</div>"
      ],
      "text/plain": [
       "   Patient_ID  Online_Follower  LinkedIn_Shared  Twitter_Shared  \\\n",
       "0      516956                0                0               0   \n",
       "1      507733                0                0               0   \n",
       "2      508307                0                0               0   \n",
       "3      512612                0                0               0   \n",
       "4      521075                0                0               0   \n",
       "\n",
       "   Facebook_Shared Income Education_Score Age First_Interaction City_Type  \\\n",
       "0                0      1              90  39         18-Jun-03       NaN   \n",
       "1                0      1            None  40         20-Jul-03         H   \n",
       "2                0      3              87  46         02-Nov-02         D   \n",
       "3                0      1              75  47         02-Nov-02         D   \n",
       "4                0      3            None  80         24-Nov-02         H   \n",
       "\n",
       "   Employer_Category  \n",
       "0  Software Industry  \n",
       "1  Software Industry  \n",
       "2               BFSI  \n",
       "3          Education  \n",
       "4             Others  "
      ]
     },
     "execution_count": 9,
     "metadata": {},
     "output_type": "execute_result"
    }
   ],
   "source": [
    "#patient data\n",
    "patient_profile.head()"
   ]
  },
  {
   "cell_type": "code",
   "execution_count": 10,
   "id": "2e655c9a-a8db-4b33-94d2-aec63dd2582e",
   "metadata": {},
   "outputs": [
    {
     "data": {
      "text/html": [
       "<div>\n",
       "<style scoped>\n",
       "    .dataframe tbody tr th:only-of-type {\n",
       "        vertical-align: middle;\n",
       "    }\n",
       "\n",
       "    .dataframe tbody tr th {\n",
       "        vertical-align: top;\n",
       "    }\n",
       "\n",
       "    .dataframe thead th {\n",
       "        text-align: right;\n",
       "    }\n",
       "</style>\n",
       "<table border=\"1\" class=\"dataframe\">\n",
       "  <thead>\n",
       "    <tr style=\"text-align: right;\">\n",
       "      <th></th>\n",
       "      <th>Health_Camp_ID</th>\n",
       "      <th>Camp_Start_Date</th>\n",
       "      <th>Camp_End_Date</th>\n",
       "      <th>Category1</th>\n",
       "      <th>Category2</th>\n",
       "      <th>Category3</th>\n",
       "    </tr>\n",
       "  </thead>\n",
       "  <tbody>\n",
       "    <tr>\n",
       "      <th>0</th>\n",
       "      <td>6560</td>\n",
       "      <td>16-Aug-03</td>\n",
       "      <td>20-Aug-03</td>\n",
       "      <td>First</td>\n",
       "      <td>B</td>\n",
       "      <td>2</td>\n",
       "    </tr>\n",
       "    <tr>\n",
       "      <th>1</th>\n",
       "      <td>6530</td>\n",
       "      <td>16-Aug-03</td>\n",
       "      <td>28-Oct-03</td>\n",
       "      <td>First</td>\n",
       "      <td>C</td>\n",
       "      <td>2</td>\n",
       "    </tr>\n",
       "    <tr>\n",
       "      <th>2</th>\n",
       "      <td>6544</td>\n",
       "      <td>03-Nov-03</td>\n",
       "      <td>15-Nov-03</td>\n",
       "      <td>First</td>\n",
       "      <td>F</td>\n",
       "      <td>1</td>\n",
       "    </tr>\n",
       "    <tr>\n",
       "      <th>3</th>\n",
       "      <td>6585</td>\n",
       "      <td>22-Nov-03</td>\n",
       "      <td>05-Dec-03</td>\n",
       "      <td>First</td>\n",
       "      <td>E</td>\n",
       "      <td>2</td>\n",
       "    </tr>\n",
       "    <tr>\n",
       "      <th>4</th>\n",
       "      <td>6561</td>\n",
       "      <td>30-Nov-03</td>\n",
       "      <td>18-Dec-03</td>\n",
       "      <td>First</td>\n",
       "      <td>E</td>\n",
       "      <td>1</td>\n",
       "    </tr>\n",
       "  </tbody>\n",
       "</table>\n",
       "</div>"
      ],
      "text/plain": [
       "   Health_Camp_ID Camp_Start_Date Camp_End_Date Category1 Category2  Category3\n",
       "0            6560       16-Aug-03     20-Aug-03     First         B          2\n",
       "1            6530       16-Aug-03     28-Oct-03     First         C          2\n",
       "2            6544       03-Nov-03     15-Nov-03     First         F          1\n",
       "3            6585       22-Nov-03     05-Dec-03     First         E          2\n",
       "4            6561       30-Nov-03     18-Dec-03     First         E          1"
      ]
     },
     "execution_count": 10,
     "metadata": {},
     "output_type": "execute_result"
    }
   ],
   "source": [
    "#health camp data\n",
    "health_camp_details.head()"
   ]
  },
  {
   "cell_type": "code",
   "execution_count": 11,
   "id": "d6961421-8388-4721-91a4-7dffc08f1f4b",
   "metadata": {},
   "outputs": [
    {
     "data": {
      "text/html": [
       "<div>\n",
       "<style scoped>\n",
       "    .dataframe tbody tr th:only-of-type {\n",
       "        vertical-align: middle;\n",
       "    }\n",
       "\n",
       "    .dataframe tbody tr th {\n",
       "        vertical-align: top;\n",
       "    }\n",
       "\n",
       "    .dataframe thead th {\n",
       "        text-align: right;\n",
       "    }\n",
       "</style>\n",
       "<table border=\"1\" class=\"dataframe\">\n",
       "  <thead>\n",
       "    <tr style=\"text-align: right;\">\n",
       "      <th></th>\n",
       "      <th>Patient_ID</th>\n",
       "      <th>Health_Camp_ID</th>\n",
       "      <th>Registration_Date</th>\n",
       "      <th>Var1</th>\n",
       "      <th>Var2</th>\n",
       "      <th>Var3</th>\n",
       "      <th>Var4</th>\n",
       "      <th>Var5</th>\n",
       "    </tr>\n",
       "  </thead>\n",
       "  <tbody>\n",
       "    <tr>\n",
       "      <th>0</th>\n",
       "      <td>489652</td>\n",
       "      <td>6578</td>\n",
       "      <td>10-Sep-05</td>\n",
       "      <td>4</td>\n",
       "      <td>0</td>\n",
       "      <td>0</td>\n",
       "      <td>0</td>\n",
       "      <td>2</td>\n",
       "    </tr>\n",
       "    <tr>\n",
       "      <th>1</th>\n",
       "      <td>507246</td>\n",
       "      <td>6578</td>\n",
       "      <td>18-Aug-05</td>\n",
       "      <td>45</td>\n",
       "      <td>5</td>\n",
       "      <td>0</td>\n",
       "      <td>0</td>\n",
       "      <td>7</td>\n",
       "    </tr>\n",
       "    <tr>\n",
       "      <th>2</th>\n",
       "      <td>523729</td>\n",
       "      <td>6534</td>\n",
       "      <td>29-Apr-06</td>\n",
       "      <td>0</td>\n",
       "      <td>0</td>\n",
       "      <td>0</td>\n",
       "      <td>0</td>\n",
       "      <td>0</td>\n",
       "    </tr>\n",
       "    <tr>\n",
       "      <th>3</th>\n",
       "      <td>524931</td>\n",
       "      <td>6535</td>\n",
       "      <td>07-Feb-04</td>\n",
       "      <td>0</td>\n",
       "      <td>0</td>\n",
       "      <td>0</td>\n",
       "      <td>0</td>\n",
       "      <td>0</td>\n",
       "    </tr>\n",
       "    <tr>\n",
       "      <th>4</th>\n",
       "      <td>521364</td>\n",
       "      <td>6529</td>\n",
       "      <td>28-Feb-06</td>\n",
       "      <td>15</td>\n",
       "      <td>1</td>\n",
       "      <td>0</td>\n",
       "      <td>0</td>\n",
       "      <td>7</td>\n",
       "    </tr>\n",
       "  </tbody>\n",
       "</table>\n",
       "</div>"
      ],
      "text/plain": [
       "   Patient_ID  Health_Camp_ID Registration_Date  Var1  Var2  Var3  Var4  Var5\n",
       "0      489652            6578         10-Sep-05     4     0     0     0     2\n",
       "1      507246            6578         18-Aug-05    45     5     0     0     7\n",
       "2      523729            6534         29-Apr-06     0     0     0     0     0\n",
       "3      524931            6535         07-Feb-04     0     0     0     0     0\n",
       "4      521364            6529         28-Feb-06    15     1     0     0     7"
      ]
     },
     "execution_count": 11,
     "metadata": {},
     "output_type": "execute_result"
    }
   ],
   "source": [
    "train.head()"
   ]
  },
  {
   "cell_type": "code",
   "execution_count": 12,
   "id": "31542628-004e-43fa-bc53-733b4dfff9d2",
   "metadata": {},
   "outputs": [
    {
     "data": {
      "text/html": [
       "<div>\n",
       "<style scoped>\n",
       "    .dataframe tbody tr th:only-of-type {\n",
       "        vertical-align: middle;\n",
       "    }\n",
       "\n",
       "    .dataframe tbody tr th {\n",
       "        vertical-align: top;\n",
       "    }\n",
       "\n",
       "    .dataframe thead th {\n",
       "        text-align: right;\n",
       "    }\n",
       "</style>\n",
       "<table border=\"1\" class=\"dataframe\">\n",
       "  <thead>\n",
       "    <tr style=\"text-align: right;\">\n",
       "      <th></th>\n",
       "      <th>Patient_ID</th>\n",
       "      <th>Health_Camp_ID</th>\n",
       "      <th>Registration_Date</th>\n",
       "      <th>Var1</th>\n",
       "      <th>Var2</th>\n",
       "      <th>Var3</th>\n",
       "      <th>Var4</th>\n",
       "      <th>Var5</th>\n",
       "    </tr>\n",
       "  </thead>\n",
       "  <tbody>\n",
       "    <tr>\n",
       "      <th>0</th>\n",
       "      <td>505701</td>\n",
       "      <td>6548</td>\n",
       "      <td>21-May-06</td>\n",
       "      <td>1</td>\n",
       "      <td>0</td>\n",
       "      <td>0</td>\n",
       "      <td>0</td>\n",
       "      <td>2</td>\n",
       "    </tr>\n",
       "    <tr>\n",
       "      <th>1</th>\n",
       "      <td>500633</td>\n",
       "      <td>6584</td>\n",
       "      <td>02-Jun-06</td>\n",
       "      <td>0</td>\n",
       "      <td>0</td>\n",
       "      <td>0</td>\n",
       "      <td>0</td>\n",
       "      <td>0</td>\n",
       "    </tr>\n",
       "    <tr>\n",
       "      <th>2</th>\n",
       "      <td>506945</td>\n",
       "      <td>6582</td>\n",
       "      <td>10-Aug-06</td>\n",
       "      <td>0</td>\n",
       "      <td>0</td>\n",
       "      <td>0</td>\n",
       "      <td>0</td>\n",
       "      <td>0</td>\n",
       "    </tr>\n",
       "    <tr>\n",
       "      <th>3</th>\n",
       "      <td>497447</td>\n",
       "      <td>6551</td>\n",
       "      <td>27-Aug-06</td>\n",
       "      <td>0</td>\n",
       "      <td>0</td>\n",
       "      <td>0</td>\n",
       "      <td>0</td>\n",
       "      <td>0</td>\n",
       "    </tr>\n",
       "    <tr>\n",
       "      <th>4</th>\n",
       "      <td>496446</td>\n",
       "      <td>6533</td>\n",
       "      <td>19-Sep-06</td>\n",
       "      <td>0</td>\n",
       "      <td>0</td>\n",
       "      <td>0</td>\n",
       "      <td>0</td>\n",
       "      <td>0</td>\n",
       "    </tr>\n",
       "  </tbody>\n",
       "</table>\n",
       "</div>"
      ],
      "text/plain": [
       "   Patient_ID  Health_Camp_ID Registration_Date  Var1  Var2  Var3  Var4  Var5\n",
       "0      505701            6548         21-May-06     1     0     0     0     2\n",
       "1      500633            6584         02-Jun-06     0     0     0     0     0\n",
       "2      506945            6582         10-Aug-06     0     0     0     0     0\n",
       "3      497447            6551         27-Aug-06     0     0     0     0     0\n",
       "4      496446            6533         19-Sep-06     0     0     0     0     0"
      ]
     },
     "execution_count": 12,
     "metadata": {},
     "output_type": "execute_result"
    }
   ],
   "source": [
    "test.head()"
   ]
  },
  {
   "cell_type": "code",
   "execution_count": 14,
   "id": "ad167ac1-8522-414c-8c97-653efb882c1f",
   "metadata": {},
   "outputs": [
    {
     "data": {
      "text/plain": [
       "Patient_ID               0\n",
       "Online_Follower          0\n",
       "LinkedIn_Shared          0\n",
       "Twitter_Shared           0\n",
       "Facebook_Shared          0\n",
       "Income                   0\n",
       "Education_Score          0\n",
       "Age                      0\n",
       "First_Interaction        0\n",
       "City_Type            23384\n",
       "Employer_Category    34793\n",
       "dtype: int64"
      ]
     },
     "execution_count": 14,
     "metadata": {},
     "output_type": "execute_result"
    }
   ],
   "source": [
    "#looking for null values\n",
    "patient_profile.isnull().sum()"
   ]
  },
  {
   "cell_type": "markdown",
   "id": "d6c01204-2388-4161-aea2-1c05dd2339e6",
   "metadata": {},
   "source": [
    "23384 city values and 34793 employee category values are missing"
   ]
  },
  {
   "cell_type": "code",
   "execution_count": 15,
   "id": "28b602b4-66f1-4982-af6f-7cf6ce000d05",
   "metadata": {},
   "outputs": [
    {
     "name": "stderr",
     "output_type": "stream",
     "text": [
      "/Users/venkatsrinidhivaddy/opt/anaconda3/lib/python3.9/site-packages/seaborn/_decorators.py:36: FutureWarning: Pass the following variable as a keyword arg: x. From version 0.12, the only valid positional argument will be `data`, and passing other arguments without an explicit keyword will result in an error or misinterpretation.\n",
      "  warnings.warn(\n"
     ]
    },
    {
     "data": {
      "text/plain": [
       "<AxesSubplot:xlabel='Age', ylabel='count'>"
      ]
     },
     "execution_count": 15,
     "metadata": {},
     "output_type": "execute_result"
    },
    {
     "data": {
      "image/png": "[encoded data removed]",
      "text/plain": [
       "<Figure size 1440x432 with 1 Axes>"
      ]
     },
     "metadata": {
      "needs_background": "light"
     },
     "output_type": "display_data"
    }
   ],
   "source": [
    "#studying the distribution of age of most active participants in the camp\n",
    "plt.figure(figsize=(20,6))\n",
    "sns.countplot(patient_profile.dropna().sort_values(\"Age\").Age)"
   ]
  },
  {
   "cell_type": "markdown",
   "id": "23abe5ed-6ed2-4193-a9f1-ebeb3739e260",
   "metadata": {},
   "source": [
    "Patients age have ranged from 32 to 80 in these medical camps. Maximum participatory patients are in the age group of 41-43. Younger people tend to be more active in these medical camps. "
   ]
  },
  {
   "cell_type": "code",
   "execution_count": 17,
   "id": "4b6e901b-18fa-4447-8124-472317b01419",
   "metadata": {},
   "outputs": [
    {
     "name": "stderr",
     "output_type": "stream",
     "text": [
      "/Users/venkatsrinidhivaddy/opt/anaconda3/lib/python3.9/site-packages/seaborn/_decorators.py:36: FutureWarning: Pass the following variable as a keyword arg: x. From version 0.12, the only valid positional argument will be `data`, and passing other arguments without an explicit keyword will result in an error or misinterpretation.\n",
      "  warnings.warn(\n"
     ]
    },
    {
     "data": {
      "text/plain": [
       "<AxesSubplot:xlabel='Income', ylabel='count'>"
      ]
     },
     "execution_count": 17,
     "metadata": {},
     "output_type": "execute_result"
    },
    {
     "data": {
      "image/png": "[encoded data removed]",
      "text/plain": [
       "<Figure size 432x288 with 1 Axes>"
      ]
     },
     "metadata": {
      "needs_background": "light"
     },
     "output_type": "display_data"
    }
   ],
   "source": [
    "#studying the distribution of patients across cities\n",
    "sns.countplot(patient_profile.dropna().Income)"
   ]
  },
  {
   "cell_type": "code",
   "execution_count": 19,
   "id": "1c9dc72e-23f8-4bf3-8197-3989e5829b82",
   "metadata": {},
   "outputs": [
    {
     "name": "stderr",
     "output_type": "stream",
     "text": [
      "/Users/venkatsrinidhivaddy/opt/anaconda3/lib/python3.9/site-packages/seaborn/_decorators.py:36: FutureWarning: Pass the following variable as a keyword arg: x. From version 0.12, the only valid positional argument will be `data`, and passing other arguments without an explicit keyword will result in an error or misinterpretation.\n",
      "  warnings.warn(\n"
     ]
    },
    {
     "data": {
      "text/plain": [
       "<AxesSubplot:xlabel='Employer_Category', ylabel='count'>"
      ]
     },
     "execution_count": 19,
     "metadata": {},
     "output_type": "execute_result"
    },
    {
     "data": {
      "image/png": "[encoded data removed]",
      "text/plain": [
       "<Figure size 1440x432 with 1 Axes>"
      ]
     },
     "metadata": {
      "needs_background": "light"
     },
     "output_type": "display_data"
    }
   ],
   "source": [
    "plt.figure(figsize=(20,6))\n",
    "sns.countplot(patient_profile.dropna().Employer_Category)"
   ]
  },
  {
   "cell_type": "markdown",
   "id": "185ef1ca-d16d-4671-95c9-592fb8ab5c04",
   "metadata": {},
   "source": [
    "Most active patients are from software industry, technology, consulting, and others. They are probably more health conscious. "
   ]
  },
  {
   "cell_type": "code",
   "execution_count": 31,
   "id": "926fd5c0-ee19-4e0b-b648-28f1a33c6775",
   "metadata": {},
   "outputs": [],
   "source": [
    "#merging dataframes\n",
    "merged_details = pd.merge(right = patient_profile, left = first_health_camp, on=\"Patient_ID\")\n",
    "merged_details = merged_details.merge(health_camp_details, on = \"Health_Camp_ID\" )\n",
    "merged_details = merged_details.merge(second_health_camp, on=\"Patient_ID\")\n",
    "merged_details = merged_details.merge( third_health_camp ,on = \"Patient_ID\")"
   ]
  },
  {
   "cell_type": "code",
   "execution_count": 32,
   "id": "0a44c058-97f4-4976-8c47-4fcf00da7616",
   "metadata": {},
   "outputs": [
    {
     "data": {
      "text/html": [
       "<div>\n",
       "<style scoped>\n",
       "    .dataframe tbody tr th:only-of-type {\n",
       "        vertical-align: middle;\n",
       "    }\n",
       "\n",
       "    .dataframe tbody tr th {\n",
       "        vertical-align: top;\n",
       "    }\n",
       "\n",
       "    .dataframe thead th {\n",
       "        text-align: right;\n",
       "    }\n",
       "</style>\n",
       "<table border=\"1\" class=\"dataframe\">\n",
       "  <thead>\n",
       "    <tr style=\"text-align: right;\">\n",
       "      <th></th>\n",
       "      <th>Patient_ID</th>\n",
       "      <th>Health_Camp_ID_x</th>\n",
       "      <th>Donation</th>\n",
       "      <th>Health_Score</th>\n",
       "      <th>Unnamed: 4</th>\n",
       "      <th>Online_Follower</th>\n",
       "      <th>LinkedIn_Shared</th>\n",
       "      <th>Twitter_Shared</th>\n",
       "      <th>Facebook_Shared</th>\n",
       "      <th>Income</th>\n",
       "      <th>...</th>\n",
       "      <th>Camp_Start_Date</th>\n",
       "      <th>Camp_End_Date</th>\n",
       "      <th>Category1</th>\n",
       "      <th>Category2</th>\n",
       "      <th>Category3</th>\n",
       "      <th>Health_Camp_ID_y</th>\n",
       "      <th>Health Score</th>\n",
       "      <th>Health_Camp_ID</th>\n",
       "      <th>Number_of_stall_visited</th>\n",
       "      <th>Last_Stall_Visited_Number</th>\n",
       "    </tr>\n",
       "  </thead>\n",
       "  <tbody>\n",
       "    <tr>\n",
       "      <th>0</th>\n",
       "      <td>494977</td>\n",
       "      <td>6560</td>\n",
       "      <td>20</td>\n",
       "      <td>0.097561</td>\n",
       "      <td>NaN</td>\n",
       "      <td>1</td>\n",
       "      <td>1</td>\n",
       "      <td>1</td>\n",
       "      <td>0</td>\n",
       "      <td>2</td>\n",
       "      <td>...</td>\n",
       "      <td>16-Aug-03</td>\n",
       "      <td>20-Aug-03</td>\n",
       "      <td>First</td>\n",
       "      <td>B</td>\n",
       "      <td>2</td>\n",
       "      <td>6536</td>\n",
       "      <td>0.673181</td>\n",
       "      <td>6578</td>\n",
       "      <td>5</td>\n",
       "      <td>3</td>\n",
       "    </tr>\n",
       "    <tr>\n",
       "      <th>1</th>\n",
       "      <td>494977</td>\n",
       "      <td>6560</td>\n",
       "      <td>20</td>\n",
       "      <td>0.097561</td>\n",
       "      <td>NaN</td>\n",
       "      <td>1</td>\n",
       "      <td>1</td>\n",
       "      <td>1</td>\n",
       "      <td>0</td>\n",
       "      <td>2</td>\n",
       "      <td>...</td>\n",
       "      <td>16-Aug-03</td>\n",
       "      <td>20-Aug-03</td>\n",
       "      <td>First</td>\n",
       "      <td>B</td>\n",
       "      <td>2</td>\n",
       "      <td>6536</td>\n",
       "      <td>0.673181</td>\n",
       "      <td>6527</td>\n",
       "      <td>2</td>\n",
       "      <td>1</td>\n",
       "    </tr>\n",
       "    <tr>\n",
       "      <th>2</th>\n",
       "      <td>494977</td>\n",
       "      <td>6560</td>\n",
       "      <td>20</td>\n",
       "      <td>0.097561</td>\n",
       "      <td>NaN</td>\n",
       "      <td>1</td>\n",
       "      <td>1</td>\n",
       "      <td>1</td>\n",
       "      <td>0</td>\n",
       "      <td>2</td>\n",
       "      <td>...</td>\n",
       "      <td>16-Aug-03</td>\n",
       "      <td>20-Aug-03</td>\n",
       "      <td>First</td>\n",
       "      <td>B</td>\n",
       "      <td>2</td>\n",
       "      <td>6555</td>\n",
       "      <td>0.615827</td>\n",
       "      <td>6578</td>\n",
       "      <td>5</td>\n",
       "      <td>3</td>\n",
       "    </tr>\n",
       "    <tr>\n",
       "      <th>3</th>\n",
       "      <td>494977</td>\n",
       "      <td>6560</td>\n",
       "      <td>20</td>\n",
       "      <td>0.097561</td>\n",
       "      <td>NaN</td>\n",
       "      <td>1</td>\n",
       "      <td>1</td>\n",
       "      <td>1</td>\n",
       "      <td>0</td>\n",
       "      <td>2</td>\n",
       "      <td>...</td>\n",
       "      <td>16-Aug-03</td>\n",
       "      <td>20-Aug-03</td>\n",
       "      <td>First</td>\n",
       "      <td>B</td>\n",
       "      <td>2</td>\n",
       "      <td>6555</td>\n",
       "      <td>0.615827</td>\n",
       "      <td>6527</td>\n",
       "      <td>2</td>\n",
       "      <td>1</td>\n",
       "    </tr>\n",
       "    <tr>\n",
       "      <th>4</th>\n",
       "      <td>494977</td>\n",
       "      <td>6585</td>\n",
       "      <td>60</td>\n",
       "      <td>0.733990</td>\n",
       "      <td>NaN</td>\n",
       "      <td>1</td>\n",
       "      <td>1</td>\n",
       "      <td>1</td>\n",
       "      <td>0</td>\n",
       "      <td>2</td>\n",
       "      <td>...</td>\n",
       "      <td>22-Nov-03</td>\n",
       "      <td>05-Dec-03</td>\n",
       "      <td>First</td>\n",
       "      <td>E</td>\n",
       "      <td>2</td>\n",
       "      <td>6536</td>\n",
       "      <td>0.673181</td>\n",
       "      <td>6578</td>\n",
       "      <td>5</td>\n",
       "      <td>3</td>\n",
       "    </tr>\n",
       "  </tbody>\n",
       "</table>\n",
       "<p>5 rows × 25 columns</p>\n",
       "</div>"
      ],
      "text/plain": [
       "   Patient_ID  Health_Camp_ID_x  Donation  Health_Score  Unnamed: 4  \\\n",
       "0      494977              6560        20      0.097561         NaN   \n",
       "1      494977              6560        20      0.097561         NaN   \n",
       "2      494977              6560        20      0.097561         NaN   \n",
       "3      494977              6560        20      0.097561         NaN   \n",
       "4      494977              6585        60      0.733990         NaN   \n",
       "\n",
       "   Online_Follower  LinkedIn_Shared  Twitter_Shared  Facebook_Shared Income  \\\n",
       "0                1                1               1                0      2   \n",
       "1                1                1               1                0      2   \n",
       "2                1                1               1                0      2   \n",
       "3                1                1               1                0      2   \n",
       "4                1                1               1                0      2   \n",
       "\n",
       "   ... Camp_Start_Date Camp_End_Date Category1 Category2 Category3  \\\n",
       "0  ...       16-Aug-03     20-Aug-03     First         B         2   \n",
       "1  ...       16-Aug-03     20-Aug-03     First         B         2   \n",
       "2  ...       16-Aug-03     20-Aug-03     First         B         2   \n",
       "3  ...       16-Aug-03     20-Aug-03     First         B         2   \n",
       "4  ...       22-Nov-03     05-Dec-03     First         E         2   \n",
       "\n",
       "  Health_Camp_ID_y Health Score Health_Camp_ID Number_of_stall_visited  \\\n",
       "0             6536     0.673181           6578                       5   \n",
       "1             6536     0.673181           6527                       2   \n",
       "2             6555     0.615827           6578                       5   \n",
       "3             6555     0.615827           6527                       2   \n",
       "4             6536     0.673181           6578                       5   \n",
       "\n",
       "   Last_Stall_Visited_Number  \n",
       "0                          3  \n",
       "1                          1  \n",
       "2                          3  \n",
       "3                          1  \n",
       "4                          3  \n",
       "\n",
       "[5 rows x 25 columns]"
      ]
     },
     "execution_count": 32,
     "metadata": {},
     "output_type": "execute_result"
    }
   ],
   "source": [
    "merged_details.head()"
   ]
  },
  {
   "cell_type": "code",
   "execution_count": 24,
   "id": "c930cc85-3fee-442b-b6e5-ef43c2a9f620",
   "metadata": {},
   "outputs": [
    {
     "data": {
      "text/plain": [
       "Index(['Patient_ID', 'Health_Camp_ID_x', 'Donation', 'Health_Score',\n",
       "       'Unnamed: 4', 'Online_Follower', 'LinkedIn_Shared', 'Twitter_Shared',\n",
       "       'Facebook_Shared', 'Income', 'Education_Score', 'Age',\n",
       "       'First_Interaction', 'City_Type', 'Employer_Category',\n",
       "       'Camp_Start_Date', 'Camp_End_Date', 'Category1', 'Category2',\n",
       "       'Category3', 'Health_Camp_ID_y', 'Health Score', 'Health_Camp_ID',\n",
       "       'Number_of_stall_visited', 'Last_Stall_Visited_Number'],\n",
       "      dtype='object')"
      ]
     },
     "execution_count": 24,
     "metadata": {},
     "output_type": "execute_result"
    }
   ],
   "source": [
    "merged_details.columns"
   ]
  },
  {
   "cell_type": "code",
   "execution_count": 26,
   "id": "b54fa5dc-7268-45d9-b845-b76989fa0b18",
   "metadata": {},
   "outputs": [
    {
     "data": {
      "text/plain": [
       "(5422, 25)"
      ]
     },
     "execution_count": 26,
     "metadata": {},
     "output_type": "execute_result"
    }
   ],
   "source": [
    "merged_details.shape"
   ]
  },
  {
   "cell_type": "code",
   "execution_count": 27,
   "id": "de4591c4-b23f-4fe7-9e70-4c6901ce2856",
   "metadata": {},
   "outputs": [
    {
     "data": {
      "text/plain": [
       "Patient_ID                      0\n",
       "Health_Camp_ID_x                0\n",
       "Donation                        0\n",
       "Health_Score                    0\n",
       "Unnamed: 4                   5422\n",
       "Online_Follower                 0\n",
       "LinkedIn_Shared                 0\n",
       "Twitter_Shared                  0\n",
       "Facebook_Shared                 0\n",
       "Income                          0\n",
       "Education_Score                 0\n",
       "Age                             0\n",
       "First_Interaction               0\n",
       "City_Type                     640\n",
       "Employer_Category            2042\n",
       "Camp_Start_Date                 0\n",
       "Camp_End_Date                   0\n",
       "Category1                       0\n",
       "Category2                       0\n",
       "Category3                       0\n",
       "Health_Camp_ID_y                0\n",
       "Health Score                    0\n",
       "Health_Camp_ID                  0\n",
       "Number_of_stall_visited         0\n",
       "Last_Stall_Visited_Number       0\n",
       "dtype: int64"
      ]
     },
     "execution_count": 27,
     "metadata": {},
     "output_type": "execute_result"
    }
   ],
   "source": [
    "merged_details.isna().sum() "
   ]
  },
  {
   "cell_type": "code",
   "execution_count": 28,
   "id": "c9cea372-3b38-4918-ac36-bf4466b65c1f",
   "metadata": {},
   "outputs": [
    {
     "data": {
      "text/plain": [
       "Unnamed: 4                   100.000000\n",
       "Employer_Category             37.661380\n",
       "City_Type                     11.803762\n",
       "Patient_ID                     0.000000\n",
       "Number_of_stall_visited        0.000000\n",
       "Health_Camp_ID                 0.000000\n",
       "Health Score                   0.000000\n",
       "Health_Camp_ID_y               0.000000\n",
       "Category3                      0.000000\n",
       "Category2                      0.000000\n",
       "Category1                      0.000000\n",
       "Camp_End_Date                  0.000000\n",
       "Camp_Start_Date                0.000000\n",
       "First_Interaction              0.000000\n",
       "Health_Camp_ID_x               0.000000\n",
       "Age                            0.000000\n",
       "Education_Score                0.000000\n",
       "Income                         0.000000\n",
       "Facebook_Shared                0.000000\n",
       "Twitter_Shared                 0.000000\n",
       "LinkedIn_Shared                0.000000\n",
       "Online_Follower                0.000000\n",
       "Health_Score                   0.000000\n",
       "Donation                       0.000000\n",
       "Last_Stall_Visited_Number      0.000000\n",
       "dtype: float64"
      ]
     },
     "execution_count": 28,
     "metadata": {},
     "output_type": "execute_result"
    }
   ],
   "source": [
    "#percentage of missing values in each column\n",
    "missing_percent = merged_details.isna().sum().sort_values(ascending=False)/len(merged_details)\n",
    "missing_percent*100 #%"
   ]
  },
  {
   "cell_type": "code",
   "execution_count": 33,
   "id": "6522c826-fba3-40e6-b04b-49c614405486",
   "metadata": {},
   "outputs": [],
   "source": [
    "merged_details2 = merged_details.drop('Unnamed: 4', axis=1, inplace=True)"
   ]
  },
  {
   "cell_type": "code",
   "execution_count": 34,
   "id": "6c205d5a-8a6f-42fc-a8d4-4aa5636877f5",
   "metadata": {},
   "outputs": [
    {
     "data": {
      "text/html": [
       "<div>\n",
       "<style scoped>\n",
       "    .dataframe tbody tr th:only-of-type {\n",
       "        vertical-align: middle;\n",
       "    }\n",
       "\n",
       "    .dataframe tbody tr th {\n",
       "        vertical-align: top;\n",
       "    }\n",
       "\n",
       "    .dataframe thead th {\n",
       "        text-align: right;\n",
       "    }\n",
       "</style>\n",
       "<table border=\"1\" class=\"dataframe\">\n",
       "  <thead>\n",
       "    <tr style=\"text-align: right;\">\n",
       "      <th></th>\n",
       "      <th>Patient_ID</th>\n",
       "      <th>Health_Camp_ID</th>\n",
       "      <th>Donation</th>\n",
       "      <th>Health_Score</th>\n",
       "      <th>Income</th>\n",
       "      <th>Camp_Start_Date</th>\n",
       "      <th>Camp_End_Date</th>\n",
       "      <th>Health Score</th>\n",
       "      <th>Number_of_stall_visited</th>\n",
       "    </tr>\n",
       "  </thead>\n",
       "  <tbody>\n",
       "    <tr>\n",
       "      <th>0</th>\n",
       "      <td>494977</td>\n",
       "      <td>6578</td>\n",
       "      <td>20</td>\n",
       "      <td>0.097561</td>\n",
       "      <td>2</td>\n",
       "      <td>16-Aug-03</td>\n",
       "      <td>20-Aug-03</td>\n",
       "      <td>0.673181</td>\n",
       "      <td>5</td>\n",
       "    </tr>\n",
       "    <tr>\n",
       "      <th>1</th>\n",
       "      <td>494977</td>\n",
       "      <td>6527</td>\n",
       "      <td>20</td>\n",
       "      <td>0.097561</td>\n",
       "      <td>2</td>\n",
       "      <td>16-Aug-03</td>\n",
       "      <td>20-Aug-03</td>\n",
       "      <td>0.673181</td>\n",
       "      <td>2</td>\n",
       "    </tr>\n",
       "    <tr>\n",
       "      <th>2</th>\n",
       "      <td>494977</td>\n",
       "      <td>6578</td>\n",
       "      <td>20</td>\n",
       "      <td>0.097561</td>\n",
       "      <td>2</td>\n",
       "      <td>16-Aug-03</td>\n",
       "      <td>20-Aug-03</td>\n",
       "      <td>0.615827</td>\n",
       "      <td>5</td>\n",
       "    </tr>\n",
       "    <tr>\n",
       "      <th>3</th>\n",
       "      <td>494977</td>\n",
       "      <td>6527</td>\n",
       "      <td>20</td>\n",
       "      <td>0.097561</td>\n",
       "      <td>2</td>\n",
       "      <td>16-Aug-03</td>\n",
       "      <td>20-Aug-03</td>\n",
       "      <td>0.615827</td>\n",
       "      <td>2</td>\n",
       "    </tr>\n",
       "    <tr>\n",
       "      <th>4</th>\n",
       "      <td>494977</td>\n",
       "      <td>6578</td>\n",
       "      <td>60</td>\n",
       "      <td>0.733990</td>\n",
       "      <td>2</td>\n",
       "      <td>22-Nov-03</td>\n",
       "      <td>05-Dec-03</td>\n",
       "      <td>0.673181</td>\n",
       "      <td>5</td>\n",
       "    </tr>\n",
       "    <tr>\n",
       "      <th>...</th>\n",
       "      <td>...</td>\n",
       "      <td>...</td>\n",
       "      <td>...</td>\n",
       "      <td>...</td>\n",
       "      <td>...</td>\n",
       "      <td>...</td>\n",
       "      <td>...</td>\n",
       "      <td>...</td>\n",
       "      <td>...</td>\n",
       "    </tr>\n",
       "    <tr>\n",
       "      <th>5417</th>\n",
       "      <td>499996</td>\n",
       "      <td>6527</td>\n",
       "      <td>20</td>\n",
       "      <td>0.537037</td>\n",
       "      <td>None</td>\n",
       "      <td>13-May-05</td>\n",
       "      <td>21-May-05</td>\n",
       "      <td>0.586493</td>\n",
       "      <td>6</td>\n",
       "    </tr>\n",
       "    <tr>\n",
       "      <th>5418</th>\n",
       "      <td>495949</td>\n",
       "      <td>6527</td>\n",
       "      <td>30</td>\n",
       "      <td>0.037037</td>\n",
       "      <td>None</td>\n",
       "      <td>13-May-05</td>\n",
       "      <td>21-May-05</td>\n",
       "      <td>0.753930</td>\n",
       "      <td>3</td>\n",
       "    </tr>\n",
       "    <tr>\n",
       "      <th>5419</th>\n",
       "      <td>520328</td>\n",
       "      <td>6527</td>\n",
       "      <td>20</td>\n",
       "      <td>0.092593</td>\n",
       "      <td>None</td>\n",
       "      <td>13-May-05</td>\n",
       "      <td>21-May-05</td>\n",
       "      <td>0.552962</td>\n",
       "      <td>6</td>\n",
       "    </tr>\n",
       "    <tr>\n",
       "      <th>5420</th>\n",
       "      <td>517824</td>\n",
       "      <td>6578</td>\n",
       "      <td>20</td>\n",
       "      <td>0.648148</td>\n",
       "      <td>None</td>\n",
       "      <td>13-May-05</td>\n",
       "      <td>21-May-05</td>\n",
       "      <td>0.610190</td>\n",
       "      <td>3</td>\n",
       "    </tr>\n",
       "    <tr>\n",
       "      <th>5421</th>\n",
       "      <td>517824</td>\n",
       "      <td>6527</td>\n",
       "      <td>20</td>\n",
       "      <td>0.648148</td>\n",
       "      <td>None</td>\n",
       "      <td>13-May-05</td>\n",
       "      <td>21-May-05</td>\n",
       "      <td>0.610190</td>\n",
       "      <td>6</td>\n",
       "    </tr>\n",
       "  </tbody>\n",
       "</table>\n",
       "<p>5422 rows × 9 columns</p>\n",
       "</div>"
      ],
      "text/plain": [
       "      Patient_ID  Health_Camp_ID  Donation  Health_Score Income  \\\n",
       "0         494977            6578        20      0.097561      2   \n",
       "1         494977            6527        20      0.097561      2   \n",
       "2         494977            6578        20      0.097561      2   \n",
       "3         494977            6527        20      0.097561      2   \n",
       "4         494977            6578        60      0.733990      2   \n",
       "...          ...             ...       ...           ...    ...   \n",
       "5417      499996            6527        20      0.537037   None   \n",
       "5418      495949            6527        30      0.037037   None   \n",
       "5419      520328            6527        20      0.092593   None   \n",
       "5420      517824            6578        20      0.648148   None   \n",
       "5421      517824            6527        20      0.648148   None   \n",
       "\n",
       "     Camp_Start_Date Camp_End_Date  Health Score  Number_of_stall_visited  \n",
       "0          16-Aug-03     20-Aug-03      0.673181                        5  \n",
       "1          16-Aug-03     20-Aug-03      0.673181                        2  \n",
       "2          16-Aug-03     20-Aug-03      0.615827                        5  \n",
       "3          16-Aug-03     20-Aug-03      0.615827                        2  \n",
       "4          22-Nov-03     05-Dec-03      0.673181                        5  \n",
       "...              ...           ...           ...                      ...  \n",
       "5417       13-May-05     21-May-05      0.586493                        6  \n",
       "5418       13-May-05     21-May-05      0.753930                        3  \n",
       "5419       13-May-05     21-May-05      0.552962                        6  \n",
       "5420       13-May-05     21-May-05      0.610190                        3  \n",
       "5421       13-May-05     21-May-05      0.610190                        6  \n",
       "\n",
       "[5422 rows x 9 columns]"
      ]
     },
     "execution_count": 34,
     "metadata": {},
     "output_type": "execute_result"
    }
   ],
   "source": [
    "#we're choosing the important columns that may give us meaningful results\n",
    "imp_col = ['Patient_ID', 'Health_Camp_ID', 'Donation', 'Health_Score',  'Income', 'Camp_Start_Date', 'Camp_End_Date', 'Health Score', 'Number_of_stall_visited']\n",
    "merged_details[imp_col]"
   ]
  },
  {
   "cell_type": "code",
   "execution_count": 36,
   "id": "a053b294-83db-4ff1-851b-abfac87f3ba8",
   "metadata": {},
   "outputs": [
    {
     "data": {
      "text/html": [
       "<div>\n",
       "<style scoped>\n",
       "    .dataframe tbody tr th:only-of-type {\n",
       "        vertical-align: middle;\n",
       "    }\n",
       "\n",
       "    .dataframe tbody tr th {\n",
       "        vertical-align: top;\n",
       "    }\n",
       "\n",
       "    .dataframe thead th {\n",
       "        text-align: right;\n",
       "    }\n",
       "</style>\n",
       "<table border=\"1\" class=\"dataframe\">\n",
       "  <thead>\n",
       "    <tr style=\"text-align: right;\">\n",
       "      <th></th>\n",
       "      <th>Patient_ID</th>\n",
       "      <th>Health_Camp_ID_x</th>\n",
       "      <th>Donation</th>\n",
       "      <th>Health_Score</th>\n",
       "      <th>Online_Follower</th>\n",
       "      <th>LinkedIn_Shared</th>\n",
       "      <th>Twitter_Shared</th>\n",
       "      <th>Facebook_Shared</th>\n",
       "      <th>Income</th>\n",
       "      <th>Education_Score</th>\n",
       "      <th>...</th>\n",
       "      <th>Camp_End_Date</th>\n",
       "      <th>Category1</th>\n",
       "      <th>Category2</th>\n",
       "      <th>Category3</th>\n",
       "      <th>Health_Camp_ID_y</th>\n",
       "      <th>Health Score</th>\n",
       "      <th>Health_Camp_ID</th>\n",
       "      <th>Number_of_stall_visited</th>\n",
       "      <th>Last_Stall_Visited_Number</th>\n",
       "      <th>Health_Score_Main</th>\n",
       "    </tr>\n",
       "  </thead>\n",
       "  <tbody>\n",
       "    <tr>\n",
       "      <th>0</th>\n",
       "      <td>494977</td>\n",
       "      <td>6560</td>\n",
       "      <td>20</td>\n",
       "      <td>0.097561</td>\n",
       "      <td>1</td>\n",
       "      <td>1</td>\n",
       "      <td>1</td>\n",
       "      <td>0</td>\n",
       "      <td>2</td>\n",
       "      <td>68</td>\n",
       "      <td>...</td>\n",
       "      <td>20-Aug-03</td>\n",
       "      <td>First</td>\n",
       "      <td>B</td>\n",
       "      <td>2</td>\n",
       "      <td>6536</td>\n",
       "      <td>0.673181</td>\n",
       "      <td>6578</td>\n",
       "      <td>5</td>\n",
       "      <td>3</td>\n",
       "      <td>0.770742</td>\n",
       "    </tr>\n",
       "    <tr>\n",
       "      <th>1</th>\n",
       "      <td>494977</td>\n",
       "      <td>6560</td>\n",
       "      <td>20</td>\n",
       "      <td>0.097561</td>\n",
       "      <td>1</td>\n",
       "      <td>1</td>\n",
       "      <td>1</td>\n",
       "      <td>0</td>\n",
       "      <td>2</td>\n",
       "      <td>68</td>\n",
       "      <td>...</td>\n",
       "      <td>20-Aug-03</td>\n",
       "      <td>First</td>\n",
       "      <td>B</td>\n",
       "      <td>2</td>\n",
       "      <td>6536</td>\n",
       "      <td>0.673181</td>\n",
       "      <td>6527</td>\n",
       "      <td>2</td>\n",
       "      <td>1</td>\n",
       "      <td>0.770742</td>\n",
       "    </tr>\n",
       "    <tr>\n",
       "      <th>2</th>\n",
       "      <td>494977</td>\n",
       "      <td>6560</td>\n",
       "      <td>20</td>\n",
       "      <td>0.097561</td>\n",
       "      <td>1</td>\n",
       "      <td>1</td>\n",
       "      <td>1</td>\n",
       "      <td>0</td>\n",
       "      <td>2</td>\n",
       "      <td>68</td>\n",
       "      <td>...</td>\n",
       "      <td>20-Aug-03</td>\n",
       "      <td>First</td>\n",
       "      <td>B</td>\n",
       "      <td>2</td>\n",
       "      <td>6555</td>\n",
       "      <td>0.615827</td>\n",
       "      <td>6578</td>\n",
       "      <td>5</td>\n",
       "      <td>3</td>\n",
       "      <td>0.713388</td>\n",
       "    </tr>\n",
       "    <tr>\n",
       "      <th>3</th>\n",
       "      <td>494977</td>\n",
       "      <td>6560</td>\n",
       "      <td>20</td>\n",
       "      <td>0.097561</td>\n",
       "      <td>1</td>\n",
       "      <td>1</td>\n",
       "      <td>1</td>\n",
       "      <td>0</td>\n",
       "      <td>2</td>\n",
       "      <td>68</td>\n",
       "      <td>...</td>\n",
       "      <td>20-Aug-03</td>\n",
       "      <td>First</td>\n",
       "      <td>B</td>\n",
       "      <td>2</td>\n",
       "      <td>6555</td>\n",
       "      <td>0.615827</td>\n",
       "      <td>6527</td>\n",
       "      <td>2</td>\n",
       "      <td>1</td>\n",
       "      <td>0.713388</td>\n",
       "    </tr>\n",
       "    <tr>\n",
       "      <th>4</th>\n",
       "      <td>494977</td>\n",
       "      <td>6585</td>\n",
       "      <td>60</td>\n",
       "      <td>0.733990</td>\n",
       "      <td>1</td>\n",
       "      <td>1</td>\n",
       "      <td>1</td>\n",
       "      <td>0</td>\n",
       "      <td>2</td>\n",
       "      <td>68</td>\n",
       "      <td>...</td>\n",
       "      <td>05-Dec-03</td>\n",
       "      <td>First</td>\n",
       "      <td>E</td>\n",
       "      <td>2</td>\n",
       "      <td>6536</td>\n",
       "      <td>0.673181</td>\n",
       "      <td>6578</td>\n",
       "      <td>5</td>\n",
       "      <td>3</td>\n",
       "      <td>1.407171</td>\n",
       "    </tr>\n",
       "  </tbody>\n",
       "</table>\n",
       "<p>5 rows × 25 columns</p>\n",
       "</div>"
      ],
      "text/plain": [
       "   Patient_ID  Health_Camp_ID_x  Donation  Health_Score  Online_Follower  \\\n",
       "0      494977              6560        20      0.097561                1   \n",
       "1      494977              6560        20      0.097561                1   \n",
       "2      494977              6560        20      0.097561                1   \n",
       "3      494977              6560        20      0.097561                1   \n",
       "4      494977              6585        60      0.733990                1   \n",
       "\n",
       "   LinkedIn_Shared  Twitter_Shared  Facebook_Shared Income Education_Score  \\\n",
       "0                1               1                0      2              68   \n",
       "1                1               1                0      2              68   \n",
       "2                1               1                0      2              68   \n",
       "3                1               1                0      2              68   \n",
       "4                1               1                0      2              68   \n",
       "\n",
       "   ... Camp_End_Date Category1 Category2 Category3 Health_Camp_ID_y  \\\n",
       "0  ...     20-Aug-03     First         B         2             6536   \n",
       "1  ...     20-Aug-03     First         B         2             6536   \n",
       "2  ...     20-Aug-03     First         B         2             6555   \n",
       "3  ...     20-Aug-03     First         B         2             6555   \n",
       "4  ...     05-Dec-03     First         E         2             6536   \n",
       "\n",
       "  Health Score Health_Camp_ID Number_of_stall_visited  \\\n",
       "0     0.673181           6578                       5   \n",
       "1     0.673181           6527                       2   \n",
       "2     0.615827           6578                       5   \n",
       "3     0.615827           6527                       2   \n",
       "4     0.673181           6578                       5   \n",
       "\n",
       "   Last_Stall_Visited_Number  Health_Score_Main  \n",
       "0                          3           0.770742  \n",
       "1                          1           0.770742  \n",
       "2                          3           0.713388  \n",
       "3                          1           0.713388  \n",
       "4                          3           1.407171  \n",
       "\n",
       "[5 rows x 25 columns]"
      ]
     },
     "execution_count": 36,
     "metadata": {},
     "output_type": "execute_result"
    }
   ],
   "source": [
    "merged_details['Health_Score_Main'] = (merged_details['Health Score'] + merged_details['Health_Score'])\n",
    "merged_details.head()\n"
   ]
  },
  {
   "cell_type": "code",
   "execution_count": 37,
   "id": "d5ccba9b-3fb9-48b8-a257-6e61f1c60de3",
   "metadata": {},
   "outputs": [
    {
     "data": {
      "text/plain": [
       "count    5422.000000\n",
       "mean        1.132249\n",
       "std         0.407618\n",
       "min         0.077326\n",
       "25%         0.844802\n",
       "50%         1.147704\n",
       "75%         1.432447\n",
       "max         1.985676\n",
       "Name: Health_Score_Main, dtype: float64"
      ]
     },
     "execution_count": 37,
     "metadata": {},
     "output_type": "execute_result"
    }
   ],
   "source": [
    "merged_details['Health_Score_Main'].describe()"
   ]
  },
  {
   "cell_type": "code",
   "execution_count": 39,
   "id": "48f892a9-39af-4cd5-b98c-987a78054606",
   "metadata": {},
   "outputs": [
    {
     "data": {
      "text/plain": [
       "count    5422.000000\n",
       "mean       32.880856\n",
       "std        25.985824\n",
       "min        10.000000\n",
       "25%        20.000000\n",
       "50%        30.000000\n",
       "75%        40.000000\n",
       "max       280.000000\n",
       "Name: Donation, dtype: float64"
      ]
     },
     "execution_count": 39,
     "metadata": {},
     "output_type": "execute_result"
    }
   ],
   "source": [
    "merged_details['Donation'].describe()"
   ]
  },
  {
   "cell_type": "code",
   "execution_count": 38,
   "id": "cecd5f37-f26d-4bbc-8e69-7cf338736c2e",
   "metadata": {},
   "outputs": [
    {
     "name": "stderr",
     "output_type": "stream",
     "text": [
      "/Users/venkatsrinidhivaddy/opt/anaconda3/lib/python3.9/site-packages/seaborn/distributions.py:2619: FutureWarning: `distplot` is a deprecated function and will be removed in a future version. Please adapt your code to use either `displot` (a figure-level function with similar flexibility) or `histplot` (an axes-level function for histograms).\n",
      "  warnings.warn(msg, FutureWarning)\n"
     ]
    },
    {
     "data": {
      "text/plain": [
       "<AxesSubplot:xlabel='Donation', ylabel='Density'>"
      ]
     },
     "execution_count": 38,
     "metadata": {},
     "output_type": "execute_result"
    },
    {
     "data": {
      "image/png": "[encoded data removed]",
      "text/plain": [
       "<Figure size 432x288 with 1 Axes>"
      ]
     },
     "metadata": {
      "needs_background": "light"
     },
     "output_type": "display_data"
    }
   ],
   "source": [
    "sns.distplot(merged_details.Donation)"
   ]
  },
  {
   "cell_type": "code",
   "execution_count": 40,
   "id": "4fae831b-bc8a-421b-9609-2bd1e58f7011",
   "metadata": {},
   "outputs": [
    {
     "name": "stderr",
     "output_type": "stream",
     "text": [
      "/Users/venkatsrinidhivaddy/opt/anaconda3/lib/python3.9/site-packages/seaborn/_decorators.py:36: FutureWarning: Pass the following variable as a keyword arg: x. From version 0.12, the only valid positional argument will be `data`, and passing other arguments without an explicit keyword will result in an error or misinterpretation.\n",
      "  warnings.warn(\n"
     ]
    },
    {
     "data": {
      "text/plain": [
       "<AxesSubplot:xlabel='Donation', ylabel='count'>"
      ]
     },
     "execution_count": 40,
     "metadata": {},
     "output_type": "execute_result"
    },
    {
     "data": {
      "image/png": "[encoded data removed]",
      "text/plain": [
       "<Figure size 1440x432 with 1 Axes>"
      ]
     },
     "metadata": {
      "needs_background": "light"
     },
     "output_type": "display_data"
    }
   ],
   "source": [
    "plt.figure(figsize=(20,6))\n",
    "sns.countplot(merged_details.Donation)"
   ]
  },
  {
   "cell_type": "code",
   "execution_count": 42,
   "id": "85f62d99-4737-4f05-9493-542fea688c3c",
   "metadata": {},
   "outputs": [
    {
     "name": "stderr",
     "output_type": "stream",
     "text": [
      "/Users/venkatsrinidhivaddy/opt/anaconda3/lib/python3.9/site-packages/seaborn/distributions.py:2619: FutureWarning: `distplot` is a deprecated function and will be removed in a future version. Please adapt your code to use either `displot` (a figure-level function with similar flexibility) or `histplot` (an axes-level function for histograms).\n",
      "  warnings.warn(msg, FutureWarning)\n"
     ]
    },
    {
     "data": {
      "text/plain": [
       "<AxesSubplot:xlabel='Health_Score_Main', ylabel='Density'>"
      ]
     },
     "execution_count": 42,
     "metadata": {},
     "output_type": "execute_result"
    },
    {
     "data": {
      "image/png": "[encoded data removed]",
      "text/plain": [
       "<Figure size 432x288 with 1 Axes>"
      ]
     },
     "metadata": {
      "needs_background": "light"
     },
     "output_type": "display_data"
    }
   ],
   "source": [
    "sns.distplot(merged_details.Health_Score_Main)"
   ]
  },
  {
   "cell_type": "code",
   "execution_count": 43,
   "id": "17097c69-48af-4172-a3ca-4ca8528369b6",
   "metadata": {},
   "outputs": [
    {
     "data": {
      "text/plain": [
       "<AxesSubplot:xlabel='Donation', ylabel='Health_Score_Main'>"
      ]
     },
     "execution_count": 43,
     "metadata": {},
     "output_type": "execute_result"
    },
    {
     "data": {
      "image/png": "[encoded data removed]",
      "text/plain": [
       "<Figure size 432x288 with 1 Axes>"
      ]
     },
     "metadata": {
      "needs_background": "light"
     },
     "output_type": "display_data"
    }
   ],
   "source": [
    "sns.scatterplot(x=\"Donation\",y=\"Health_Score_Main\",data = merged_details)"
   ]
  },
  {
   "cell_type": "code",
   "execution_count": 45,
   "id": "e69e14bf-ee12-4a6d-95da-1bb008d11159",
   "metadata": {},
   "outputs": [
    {
     "name": "stderr",
     "output_type": "stream",
     "text": [
      "/Users/venkatsrinidhivaddy/opt/anaconda3/lib/python3.9/site-packages/seaborn/_decorators.py:36: FutureWarning: Pass the following variable as a keyword arg: x. From version 0.12, the only valid positional argument will be `data`, and passing other arguments without an explicit keyword will result in an error or misinterpretation.\n",
      "  warnings.warn(\n"
     ]
    },
    {
     "data": {
      "text/plain": [
       "<AxesSubplot:xlabel='Health_Camp_ID', ylabel='count'>"
      ]
     },
     "execution_count": 45,
     "metadata": {},
     "output_type": "execute_result"
    },
    {
     "data": {
      "image/png": "[encoded data removed]",
      "text/plain": [
       "<Figure size 1440x432 with 1 Axes>"
      ]
     },
     "metadata": {
      "needs_background": "light"
     },
     "output_type": "display_data"
    }
   ],
   "source": [
    "plt.figure(figsize=(20,6))\n",
    "sns.countplot(merged_details.Health_Camp_ID)"
   ]
  },
  {
   "cell_type": "code",
   "execution_count": 59,
   "id": "ef1d251c-65b8-43e5-8535-06de7865a874",
   "metadata": {},
   "outputs": [
    {
     "name": "stderr",
     "output_type": "stream",
     "text": [
      "/Users/venkatsrinidhivaddy/opt/anaconda3/lib/python3.9/site-packages/seaborn/_decorators.py:36: FutureWarning: Pass the following variable as a keyword arg: x. From version 0.12, the only valid positional argument will be `data`, and passing other arguments without an explicit keyword will result in an error or misinterpretation.\n",
      "  warnings.warn(\n"
     ]
    },
    {
     "data": {
      "text/plain": [
       "<AxesSubplot:xlabel='Income', ylabel='count'>"
      ]
     },
     "execution_count": 59,
     "metadata": {},
     "output_type": "execute_result"
    },
    {
     "data": {
      "image/png": "[encoded data removed]",
      "text/plain": [
       "<Figure size 1440x432 with 1 Axes>"
      ]
     },
     "metadata": {
      "needs_background": "light"
     },
     "output_type": "display_data"
    }
   ],
   "source": [
    "plt.figure(figsize=(20,6))\n",
    "sns.countplot(merged_details.Income.sort_values())"
   ]
  },
  {
   "cell_type": "code",
   "execution_count": 47,
   "id": "b1cc9bfd-c2b2-492f-9086-30963d02f910",
   "metadata": {},
   "outputs": [
    {
     "ename": "TypeError",
     "evalue": "cannot convert the series to <class 'int'>",
     "output_type": "error",
     "traceback": [
      "\u001b[0;31m---------------------------------------------------------------------------\u001b[0m",
      "\u001b[0;31mTypeError\u001b[0m                                 Traceback (most recent call last)",
      "\u001b[0;32m/var/folders/_3/ml935s0j0c58950bymvl71q80000gn/T/ipykernel_74686/909801314.py\u001b[0m in \u001b[0;36m<module>\u001b[0;34m\u001b[0m\n\u001b[1;32m      1\u001b[0m \u001b[0mplt\u001b[0m\u001b[0;34m.\u001b[0m\u001b[0mfigure\u001b[0m\u001b[0;34m(\u001b[0m\u001b[0mfigsize\u001b[0m\u001b[0;34m=\u001b[0m\u001b[0;34m(\u001b[0m\u001b[0;36m20\u001b[0m\u001b[0;34m,\u001b[0m\u001b[0;36m6\u001b[0m\u001b[0;34m)\u001b[0m\u001b[0;34m)\u001b[0m\u001b[0;34m\u001b[0m\u001b[0;34m\u001b[0m\u001b[0m\n\u001b[0;32m----> 2\u001b[0;31m \u001b[0msns\u001b[0m\u001b[0;34m.\u001b[0m\u001b[0mcountplot\u001b[0m\u001b[0;34m(\u001b[0m\u001b[0mint\u001b[0m\u001b[0;34m(\u001b[0m\u001b[0mmerged_details\u001b[0m\u001b[0;34m.\u001b[0m\u001b[0mEducation_Score\u001b[0m\u001b[0;34m)\u001b[0m\u001b[0;34m)\u001b[0m\u001b[0;34m\u001b[0m\u001b[0;34m\u001b[0m\u001b[0m\n\u001b[0m",
      "\u001b[0;32m~/opt/anaconda3/lib/python3.9/site-packages/pandas/core/series.py\u001b[0m in \u001b[0;36mwrapper\u001b[0;34m(self)\u001b[0m\n\u001b[1;32m    183\u001b[0m         \u001b[0;32mif\u001b[0m \u001b[0mlen\u001b[0m\u001b[0;34m(\u001b[0m\u001b[0mself\u001b[0m\u001b[0;34m)\u001b[0m \u001b[0;34m==\u001b[0m \u001b[0;36m1\u001b[0m\u001b[0;34m:\u001b[0m\u001b[0;34m\u001b[0m\u001b[0;34m\u001b[0m\u001b[0m\n\u001b[1;32m    184\u001b[0m             \u001b[0;32mreturn\u001b[0m \u001b[0mconverter\u001b[0m\u001b[0;34m(\u001b[0m\u001b[0mself\u001b[0m\u001b[0;34m.\u001b[0m\u001b[0miloc\u001b[0m\u001b[0;34m[\u001b[0m\u001b[0;36m0\u001b[0m\u001b[0;34m]\u001b[0m\u001b[0;34m)\u001b[0m\u001b[0;34m\u001b[0m\u001b[0;34m\u001b[0m\u001b[0m\n\u001b[0;32m--> 185\u001b[0;31m         \u001b[0;32mraise\u001b[0m \u001b[0mTypeError\u001b[0m\u001b[0;34m(\u001b[0m\u001b[0;34mf\"cannot convert the series to {converter}\"\u001b[0m\u001b[0;34m)\u001b[0m\u001b[0;34m\u001b[0m\u001b[0;34m\u001b[0m\u001b[0m\n\u001b[0m\u001b[1;32m    186\u001b[0m \u001b[0;34m\u001b[0m\u001b[0m\n\u001b[1;32m    187\u001b[0m     \u001b[0mwrapper\u001b[0m\u001b[0;34m.\u001b[0m\u001b[0m__name__\u001b[0m \u001b[0;34m=\u001b[0m \u001b[0;34mf\"__{converter.__name__}__\"\u001b[0m\u001b[0;34m\u001b[0m\u001b[0;34m\u001b[0m\u001b[0m\n",
      "\u001b[0;31mTypeError\u001b[0m: cannot convert the series to <class 'int'>"
     ]
    },
    {
     "data": {
      "text/plain": [
       "<Figure size 1440x432 with 0 Axes>"
      ]
     },
     "metadata": {},
     "output_type": "display_data"
    }
   ],
   "source": [
    "plt.figure(figsize=(20,6))\n",
    "sns.countplot(merged_details.Education_Score)"
   ]
  },
  {
   "cell_type": "code",
   "execution_count": 48,
   "id": "8e514678-9e60-416c-986f-2c2ed468f02e",
   "metadata": {},
   "outputs": [
    {
     "name": "stderr",
     "output_type": "stream",
     "text": [
      "/Users/venkatsrinidhivaddy/opt/anaconda3/lib/python3.9/site-packages/seaborn/distributions.py:2619: FutureWarning: `distplot` is a deprecated function and will be removed in a future version. Please adapt your code to use either `displot` (a figure-level function with similar flexibility) or `histplot` (an axes-level function for histograms).\n",
      "  warnings.warn(msg, FutureWarning)\n"
     ]
    },
    {
     "data": {
      "text/plain": [
       "<AxesSubplot:xlabel='Health_Score_Main', ylabel='Density'>"
      ]
     },
     "execution_count": 48,
     "metadata": {},
     "output_type": "execute_result"
    },
    {
     "data": {
      "image/png": "[encoded data removed]",
      "text/plain": [
       "<Figure size 432x288 with 1 Axes>"
      ]
     },
     "metadata": {
      "needs_background": "light"
     },
     "output_type": "display_data"
    }
   ],
   "source": [
    "sns.distplot(merged_details.Health_Score_Main)"
   ]
  },
  {
   "cell_type": "code",
   "execution_count": 50,
   "id": "e0f36674-68bb-48ce-8e96-03ece0634dda",
   "metadata": {},
   "outputs": [
    {
     "data": {
      "text/html": [
       "<div>\n",
       "<style scoped>\n",
       "    .dataframe tbody tr th:only-of-type {\n",
       "        vertical-align: middle;\n",
       "    }\n",
       "\n",
       "    .dataframe tbody tr th {\n",
       "        vertical-align: top;\n",
       "    }\n",
       "\n",
       "    .dataframe thead th {\n",
       "        text-align: right;\n",
       "    }\n",
       "</style>\n",
       "<table border=\"1\" class=\"dataframe\">\n",
       "  <thead>\n",
       "    <tr style=\"text-align: right;\">\n",
       "      <th></th>\n",
       "      <th>Donation</th>\n",
       "      <th>Health_Score_Main</th>\n",
       "      <th>Income</th>\n",
       "      <th>Number_of_stall_visited</th>\n",
       "      <th>Employer_Category</th>\n",
       "      <th>City_Type</th>\n",
       "    </tr>\n",
       "  </thead>\n",
       "  <tbody>\n",
       "    <tr>\n",
       "      <th>0</th>\n",
       "      <td>20</td>\n",
       "      <td>0.770742</td>\n",
       "      <td>2</td>\n",
       "      <td>5</td>\n",
       "      <td>Transport</td>\n",
       "      <td>H</td>\n",
       "    </tr>\n",
       "    <tr>\n",
       "      <th>1</th>\n",
       "      <td>20</td>\n",
       "      <td>0.770742</td>\n",
       "      <td>2</td>\n",
       "      <td>2</td>\n",
       "      <td>Transport</td>\n",
       "      <td>H</td>\n",
       "    </tr>\n",
       "    <tr>\n",
       "      <th>2</th>\n",
       "      <td>20</td>\n",
       "      <td>0.713388</td>\n",
       "      <td>2</td>\n",
       "      <td>5</td>\n",
       "      <td>Transport</td>\n",
       "      <td>H</td>\n",
       "    </tr>\n",
       "    <tr>\n",
       "      <th>3</th>\n",
       "      <td>20</td>\n",
       "      <td>0.713388</td>\n",
       "      <td>2</td>\n",
       "      <td>2</td>\n",
       "      <td>Transport</td>\n",
       "      <td>H</td>\n",
       "    </tr>\n",
       "    <tr>\n",
       "      <th>4</th>\n",
       "      <td>60</td>\n",
       "      <td>1.407171</td>\n",
       "      <td>2</td>\n",
       "      <td>5</td>\n",
       "      <td>Transport</td>\n",
       "      <td>H</td>\n",
       "    </tr>\n",
       "  </tbody>\n",
       "</table>\n",
       "</div>"
      ],
      "text/plain": [
       "   Donation  Health_Score_Main Income  Number_of_stall_visited  \\\n",
       "0        20           0.770742      2                        5   \n",
       "1        20           0.770742      2                        2   \n",
       "2        20           0.713388      2                        5   \n",
       "3        20           0.713388      2                        2   \n",
       "4        60           1.407171      2                        5   \n",
       "\n",
       "  Employer_Category City_Type  \n",
       "0         Transport         H  \n",
       "1         Transport         H  \n",
       "2         Transport         H  \n",
       "3         Transport         H  \n",
       "4         Transport         H  "
      ]
     },
     "execution_count": 50,
     "metadata": {},
     "output_type": "execute_result"
    }
   ],
   "source": [
    "imp_cols_pred = ['Donation', 'Health_Score_Main',  'Income', 'Number_of_stall_visited', 'Employer_Category', 'City_Type']\n",
    "useful_details = merged_details[imp_cols_pred]\n",
    "useful_details.head()"
   ]
  },
  {
   "cell_type": "code",
   "execution_count": 54,
   "id": "e38e4cac-8eff-4c56-a695-bdbcf41e781a",
   "metadata": {},
   "outputs": [
    {
     "data": {
      "text/plain": [
       "0    Technology\n",
       "dtype: object"
      ]
     },
     "execution_count": 54,
     "metadata": {},
     "output_type": "execute_result"
    }
   ],
   "source": [
    "Employer = useful_details['Employer_Category'].mode()\n",
    "Employer"
   ]
  },
  {
   "cell_type": "code",
   "execution_count": 55,
   "id": "6219f669-9ee0-458b-9a0b-1f30d932a862",
   "metadata": {},
   "outputs": [
    {
     "data": {
      "text/plain": [
       "0    H\n",
       "dtype: object"
      ]
     },
     "execution_count": 55,
     "metadata": {},
     "output_type": "execute_result"
    }
   ],
   "source": [
    "City = useful_details['City_Type'].mode()\n",
    "City"
   ]
  },
  {
   "cell_type": "code",
   "execution_count": 56,
   "id": "7f11b594-2a0e-449d-918d-2106bea79ce0",
   "metadata": {},
   "outputs": [
    {
     "name": "stderr",
     "output_type": "stream",
     "text": [
      "/Users/venkatsrinidhivaddy/opt/anaconda3/lib/python3.9/site-packages/pandas/core/generic.py:6392: SettingWithCopyWarning: \n",
      "A value is trying to be set on a copy of a slice from a DataFrame\n",
      "\n",
      "See the caveats in the documentation: https://pandas.pydata.org/pandas-docs/stable/user_guide/indexing.html#returning-a-view-versus-a-copy\n",
      "  return self._update_inplace(result)\n"
     ]
    },
    {
     "data": {
      "text/html": [
       "<div>\n",
       "<style scoped>\n",
       "    .dataframe tbody tr th:only-of-type {\n",
       "        vertical-align: middle;\n",
       "    }\n",
       "\n",
       "    .dataframe tbody tr th {\n",
       "        vertical-align: top;\n",
       "    }\n",
       "\n",
       "    .dataframe thead th {\n",
       "        text-align: right;\n",
       "    }\n",
       "</style>\n",
       "<table border=\"1\" class=\"dataframe\">\n",
       "  <thead>\n",
       "    <tr style=\"text-align: right;\">\n",
       "      <th></th>\n",
       "      <th>Donation</th>\n",
       "      <th>Health_Score_Main</th>\n",
       "      <th>Income</th>\n",
       "      <th>Number_of_stall_visited</th>\n",
       "      <th>Employer_Category</th>\n",
       "      <th>City_Type</th>\n",
       "    </tr>\n",
       "  </thead>\n",
       "  <tbody>\n",
       "    <tr>\n",
       "      <th>0</th>\n",
       "      <td>20</td>\n",
       "      <td>0.770742</td>\n",
       "      <td>2</td>\n",
       "      <td>5</td>\n",
       "      <td>Transport</td>\n",
       "      <td>H</td>\n",
       "    </tr>\n",
       "    <tr>\n",
       "      <th>1</th>\n",
       "      <td>20</td>\n",
       "      <td>0.770742</td>\n",
       "      <td>2</td>\n",
       "      <td>2</td>\n",
       "      <td>Transport</td>\n",
       "      <td>H</td>\n",
       "    </tr>\n",
       "    <tr>\n",
       "      <th>2</th>\n",
       "      <td>20</td>\n",
       "      <td>0.713388</td>\n",
       "      <td>2</td>\n",
       "      <td>5</td>\n",
       "      <td>Transport</td>\n",
       "      <td>H</td>\n",
       "    </tr>\n",
       "    <tr>\n",
       "      <th>3</th>\n",
       "      <td>20</td>\n",
       "      <td>0.713388</td>\n",
       "      <td>2</td>\n",
       "      <td>2</td>\n",
       "      <td>Transport</td>\n",
       "      <td>H</td>\n",
       "    </tr>\n",
       "    <tr>\n",
       "      <th>4</th>\n",
       "      <td>60</td>\n",
       "      <td>1.407171</td>\n",
       "      <td>2</td>\n",
       "      <td>5</td>\n",
       "      <td>Transport</td>\n",
       "      <td>H</td>\n",
       "    </tr>\n",
       "  </tbody>\n",
       "</table>\n",
       "</div>"
      ],
      "text/plain": [
       "   Donation  Health_Score_Main Income  Number_of_stall_visited  \\\n",
       "0        20           0.770742      2                        5   \n",
       "1        20           0.770742      2                        2   \n",
       "2        20           0.713388      2                        5   \n",
       "3        20           0.713388      2                        2   \n",
       "4        60           1.407171      2                        5   \n",
       "\n",
       "  Employer_Category City_Type  \n",
       "0         Transport         H  \n",
       "1         Transport         H  \n",
       "2         Transport         H  \n",
       "3         Transport         H  \n",
       "4         Transport         H  "
      ]
     },
     "execution_count": 56,
     "metadata": {},
     "output_type": "execute_result"
    }
   ],
   "source": [
    "useful_details.City_Type.fillna('H', inplace=True)\n",
    "useful_details.Employer_Category.fillna('Technology', inplace = True)\n",
    "useful_details.head()"
   ]
  },
  {
   "cell_type": "code",
   "execution_count": 57,
   "id": "5238dd1a-7cde-4039-8965-8f4d489c3c3a",
   "metadata": {},
   "outputs": [
    {
     "data": {
      "image/png": "[encoded data removed]",
      "text/plain": [
       "<Figure size 432x288 with 1 Axes>"
      ]
     },
     "metadata": {},
     "output_type": "display_data"
    },
    {
     "data": {
      "image/png": "[encoded data removed]",
      "text/plain": [
       "<Figure size 432x288 with 1 Axes>"
      ]
     },
     "metadata": {
      "needs_background": "light"
     },
     "output_type": "display_data"
    },
    {
     "data": {
      "image/png": "[encoded data removed]",
      "text/plain": [
       "<Figure size 432x288 with 1 Axes>"
      ]
     },
     "metadata": {
      "needs_background": "light"
     },
     "output_type": "display_data"
    },
    {
     "data": {
      "image/png": "[encoded data removed]",
      "text/plain": [
       "<Figure size 432x288 with 1 Axes>"
      ]
     },
     "metadata": {},
     "output_type": "display_data"
    },
    {
     "data": {
      "image/png": "[encoded data removed]",
      "text/plain": [
       "<Figure size 432x288 with 1 Axes>"
      ]
     },
     "metadata": {
      "needs_background": "light"
     },
     "output_type": "display_data"
    },
    {
     "data": {
      "image/png": "[encoded data removed]",
      "text/plain": [
       "<Figure size 432x288 with 1 Axes>"
      ]
     },
     "metadata": {
      "needs_background": "light"
     },
     "output_type": "display_data"
    }
   ],
   "source": [
    "for col in useful_details.columns:\n",
    "    if useful_details[col].dtype == 'int64':\n",
    "        plt.pie(useful_details[col].value_counts(), labels=useful_details[col].unique())\n",
    "        plt.title('Piechart for {}'.format(col))\n",
    "        plt.show()\n",
    "    else:\n",
    "        plt.hist(useful_details[col].value_counts())\n",
    "        plt.title('Histogram for {}'.format(col))\n",
    "        plt.show(); "
   ]
  },
  {
   "cell_type": "code",
   "execution_count": 61,
   "id": "34caeec6-b804-41d4-b008-6839677b9581",
   "metadata": {},
   "outputs": [
    {
     "data": {
      "text/plain": [
       "<matplotlib.collections.PathCollection at 0x7fbd2e0c1f70>"
      ]
     },
     "execution_count": 61,
     "metadata": {},
     "output_type": "execute_result"
    },
    {
     "data": {
      "image/png": "[encoded data removed]",
      "text/plain": [
       "<Figure size 432x288 with 1 Axes>"
      ]
     },
     "metadata": {
      "needs_background": "light"
     },
     "output_type": "display_data"
    }
   ],
   "source": [
    "plt.scatter(x=useful_details['Income'], y=useful_details['Health_Score_Main'], s = 75)"
   ]
  },
  {
   "cell_type": "code",
   "execution_count": 62,
   "id": "71874c53-bd61-4ce1-9017-12e01bdca8a8",
   "metadata": {},
   "outputs": [
    {
     "data": {
      "text/plain": [
       "<seaborn.axisgrid.PairGrid at 0x7fbd4b1e2cd0>"
      ]
     },
     "execution_count": 62,
     "metadata": {},
     "output_type": "execute_result"
    },
    {
     "data": {
      "image/png": "[encoded data removed]",
      "text/plain": [
       "<Figure size 540x540 with 12 Axes>"
      ]
     },
     "metadata": {
      "needs_background": "light"
     },
     "output_type": "display_data"
    }
   ],
   "source": [
    "sns.pairplot(useful_details)"
   ]
  },
  {
   "cell_type": "code",
   "execution_count": 70,
   "id": "ab37d4a2-341d-4dd9-9a54-f1ab5b881c03",
   "metadata": {},
   "outputs": [
    {
     "data": {
      "image/png": "[encoded data removed]",
      "text/plain": [
       "<Figure size 432x288 with 1 Axes>"
      ]
     },
     "metadata": {
      "needs_background": "light"
     },
     "output_type": "display_data"
    }
   ],
   "source": [
    "df_new1=pd.DataFrame()\n",
    "\n",
    "\n",
    "df_new1['Mean_Health']=useful_details.groupby('Income')['Health_Score_Main'].mean()\n",
    "df_new1.index\n",
    "\n",
    "#plotting \n",
    "plt.bar(df_new1.index,df_new1['Mean_Health'])\n",
    "plt.title('Income vs Health')\n",
    "plt.xlabel('Income')\n",
    "plt.ylabel('Health')\n",
    "plt.show()"
   ]
  },
  {
   "cell_type": "code",
   "execution_count": 69,
   "id": "cc1163fa-7eef-488a-86de-8a10a0a5e18f",
   "metadata": {},
   "outputs": [
    {
     "data": {
      "image/png": "[encoded data removed]",
      "text/plain": [
       "<Figure size 432x288 with 1 Axes>"
      ]
     },
     "metadata": {
      "needs_background": "light"
     },
     "output_type": "display_data"
    }
   ],
   "source": [
    "df_new1=pd.DataFrame()\n",
    "\n",
    "\n",
    "df_new1['Mean_Health']=useful_details.groupby('City_Type')['Health_Score_Main'].mean()\n",
    "df_new1.index\n",
    "\n",
    "#plotting \n",
    "plt.bar(df_new1.index,df_new1['Mean_Health'])\n",
    "plt.title('City vs Health')\n",
    "plt.xlabel('City')\n",
    "plt.ylabel('Health')\n",
    "plt.show()"
   ]
  },
  {
   "cell_type": "code",
   "execution_count": 68,
   "id": "d168b737-4dda-48c1-be89-0cf9077b14f9",
   "metadata": {},
   "outputs": [
    {
     "data": {
      "image/png": "[encoded data removed]",
      "text/plain": [
       "<Figure size 432x288 with 1 Axes>"
      ]
     },
     "metadata": {
      "needs_background": "light"
     },
     "output_type": "display_data"
    }
   ],
   "source": [
    "df_new1=pd.DataFrame()\n",
    "\n",
    "\n",
    "df_new1['Mean_Health']=useful_details.groupby('Employer_Category')['Health_Score_Main'].mean()\n",
    "df_new1.index\n",
    "\n",
    "#plotting \n",
    "plt.bar(df_new1.index,df_new1['Mean_Health'])\n",
    "plt.title('Employer vs Health')\n",
    "plt.xlabel('Employer')\n",
    "plt.ylabel('Health')\n",
    "plt.xticks(rotation=90)\n",
    "plt.show()"
   ]
  },
  {
   "cell_type": "code",
   "execution_count": 71,
   "id": "4f563c47-e35c-4878-9c83-2d1b02cd4cff",
   "metadata": {},
   "outputs": [
    {
     "data": {
      "image/png": "[encoded data removed]",
      "text/plain": [
       "<Figure size 432x288 with 1 Axes>"
      ]
     },
     "metadata": {
      "needs_background": "light"
     },
     "output_type": "display_data"
    }
   ],
   "source": [
    "df_new1=pd.DataFrame()\n",
    "\n",
    "\n",
    "df_new1['Mean_Donation']=useful_details.groupby('Income')['Donation'].mean()\n",
    "df_new1.index\n",
    "\n",
    "#plotting \n",
    "plt.bar(df_new1.index,df_new1['Mean_Donation'])\n",
    "plt.title('Income vs Donation')\n",
    "plt.xlabel('Income')\n",
    "plt.ylabel('Donation')\n",
    "plt.show()"
   ]
  },
  {
   "cell_type": "code",
   "execution_count": 74,
   "id": "c207ec6f-699b-45d0-8b68-4a3f220bd7e1",
   "metadata": {},
   "outputs": [
    {
     "data": {
      "image/png": "[encoded data removed]",
      "text/plain": [
       "<Figure size 432x288 with 1 Axes>"
      ]
     },
     "metadata": {
      "needs_background": "light"
     },
     "output_type": "display_data"
    }
   ],
   "source": [
    "df_new1=pd.DataFrame()\n",
    "\n",
    "\n",
    "df_new1['Mean_Donation']=merged_details.groupby('Age')['Donation'].mean()\n",
    "df_new1.index\n",
    "\n",
    "#plotting \n",
    "plt.bar(df_new1.index,df_new1['Mean_Donation'])\n",
    "plt.title('Age vs Donation')\n",
    "plt.xlabel('Age')\n",
    "plt.xticks(rotation = 90)\n",
    "plt.ylabel('Donation')\n",
    "plt.show()"
   ]
  },
  {
   "cell_type": "code",
   "execution_count": 91,
   "id": "32e1755e-ec38-429a-a851-dd3730a8d5c6",
   "metadata": {},
   "outputs": [
    {
     "data": {
      "text/html": [
       "<div>\n",
       "<style scoped>\n",
       "    .dataframe tbody tr th:only-of-type {\n",
       "        vertical-align: middle;\n",
       "    }\n",
       "\n",
       "    .dataframe tbody tr th {\n",
       "        vertical-align: top;\n",
       "    }\n",
       "\n",
       "    .dataframe thead th {\n",
       "        text-align: right;\n",
       "    }\n",
       "</style>\n",
       "<table border=\"1\" class=\"dataframe\">\n",
       "  <thead>\n",
       "    <tr style=\"text-align: right;\">\n",
       "      <th></th>\n",
       "      <th>Patient_ID</th>\n",
       "      <th>Health_Camp_ID_x</th>\n",
       "      <th>Donation</th>\n",
       "      <th>Health_Score</th>\n",
       "      <th>Online_Follower</th>\n",
       "      <th>LinkedIn_Shared</th>\n",
       "      <th>Twitter_Shared</th>\n",
       "      <th>Facebook_Shared</th>\n",
       "      <th>Category3</th>\n",
       "      <th>Health_Camp_ID_y</th>\n",
       "      <th>Health Score</th>\n",
       "      <th>Health_Camp_ID</th>\n",
       "      <th>Number_of_stall_visited</th>\n",
       "      <th>Last_Stall_Visited_Number</th>\n",
       "    </tr>\n",
       "  </thead>\n",
       "  <tbody>\n",
       "    <tr>\n",
       "      <th>0</th>\n",
       "      <td>494977</td>\n",
       "      <td>6560</td>\n",
       "      <td>20</td>\n",
       "      <td>0.097561</td>\n",
       "      <td>1</td>\n",
       "      <td>1</td>\n",
       "      <td>1</td>\n",
       "      <td>0</td>\n",
       "      <td>2</td>\n",
       "      <td>6536</td>\n",
       "      <td>0.673181</td>\n",
       "      <td>6578</td>\n",
       "      <td>5</td>\n",
       "      <td>3</td>\n",
       "    </tr>\n",
       "    <tr>\n",
       "      <th>1</th>\n",
       "      <td>494977</td>\n",
       "      <td>6560</td>\n",
       "      <td>20</td>\n",
       "      <td>0.097561</td>\n",
       "      <td>1</td>\n",
       "      <td>1</td>\n",
       "      <td>1</td>\n",
       "      <td>0</td>\n",
       "      <td>2</td>\n",
       "      <td>6536</td>\n",
       "      <td>0.673181</td>\n",
       "      <td>6527</td>\n",
       "      <td>2</td>\n",
       "      <td>1</td>\n",
       "    </tr>\n",
       "    <tr>\n",
       "      <th>2</th>\n",
       "      <td>494977</td>\n",
       "      <td>6560</td>\n",
       "      <td>20</td>\n",
       "      <td>0.097561</td>\n",
       "      <td>1</td>\n",
       "      <td>1</td>\n",
       "      <td>1</td>\n",
       "      <td>0</td>\n",
       "      <td>2</td>\n",
       "      <td>6555</td>\n",
       "      <td>0.615827</td>\n",
       "      <td>6578</td>\n",
       "      <td>5</td>\n",
       "      <td>3</td>\n",
       "    </tr>\n",
       "    <tr>\n",
       "      <th>3</th>\n",
       "      <td>494977</td>\n",
       "      <td>6560</td>\n",
       "      <td>20</td>\n",
       "      <td>0.097561</td>\n",
       "      <td>1</td>\n",
       "      <td>1</td>\n",
       "      <td>1</td>\n",
       "      <td>0</td>\n",
       "      <td>2</td>\n",
       "      <td>6555</td>\n",
       "      <td>0.615827</td>\n",
       "      <td>6527</td>\n",
       "      <td>2</td>\n",
       "      <td>1</td>\n",
       "    </tr>\n",
       "    <tr>\n",
       "      <th>4</th>\n",
       "      <td>494977</td>\n",
       "      <td>6585</td>\n",
       "      <td>60</td>\n",
       "      <td>0.733990</td>\n",
       "      <td>1</td>\n",
       "      <td>1</td>\n",
       "      <td>1</td>\n",
       "      <td>0</td>\n",
       "      <td>2</td>\n",
       "      <td>6536</td>\n",
       "      <td>0.673181</td>\n",
       "      <td>6578</td>\n",
       "      <td>5</td>\n",
       "      <td>3</td>\n",
       "    </tr>\n",
       "  </tbody>\n",
       "</table>\n",
       "</div>"
      ],
      "text/plain": [
       "   Patient_ID  Health_Camp_ID_x  Donation  Health_Score  Online_Follower  \\\n",
       "0      494977              6560        20      0.097561                1   \n",
       "1      494977              6560        20      0.097561                1   \n",
       "2      494977              6560        20      0.097561                1   \n",
       "3      494977              6560        20      0.097561                1   \n",
       "4      494977              6585        60      0.733990                1   \n",
       "\n",
       "   LinkedIn_Shared  Twitter_Shared  Facebook_Shared  Category3  \\\n",
       "0                1               1                0          2   \n",
       "1                1               1                0          2   \n",
       "2                1               1                0          2   \n",
       "3                1               1                0          2   \n",
       "4                1               1                0          2   \n",
       "\n",
       "   Health_Camp_ID_y  Health Score  Health_Camp_ID  Number_of_stall_visited  \\\n",
       "0              6536      0.673181            6578                        5   \n",
       "1              6536      0.673181            6527                        2   \n",
       "2              6555      0.615827            6578                        5   \n",
       "3              6555      0.615827            6527                        2   \n",
       "4              6536      0.673181            6578                        5   \n",
       "\n",
       "   Last_Stall_Visited_Number  \n",
       "0                          3  \n",
       "1                          1  \n",
       "2                          3  \n",
       "3                          1  \n",
       "4                          3  "
      ]
     },
     "execution_count": 91,
     "metadata": {},
     "output_type": "execute_result"
    }
   ],
   "source": [
    "numerics = ['int16', 'int32', 'int64', 'float16', 'float32', 'float64']\n",
    "numerical_merged_cols = merged_details.select_dtypes(include=numerics) \n",
    "numerical_merged_cols\n",
    "x = numerical_merged_cols.iloc[:,:-1]\n",
    "y = numerical_merged_cols.Health_Score_Main\n",
    "X =pd.get_dummies(x, prefix=None, prefix_sep=\"_\",drop_first=False)\n",
    "Y =pd.get_dummies(y, prefix=None, prefix_sep=\"_\",drop_first=False)\n",
    "X.head()"
   ]
  },
  {
   "cell_type": "code",
   "execution_count": 93,
   "id": "551cf496-7701-43ad-9ada-6d0ba611314b",
   "metadata": {},
   "outputs": [
    {
     "data": {
      "text/plain": [
       "1.0"
      ]
     },
     "execution_count": 93,
     "metadata": {},
     "output_type": "execute_result"
    }
   ],
   "source": [
    "from sklearn.model_selection import train_test_split\n",
    "x_train,x_test,y_train,y_test = train_test_split(x,y,test_size = .3,random_state =23)\n",
    "from sklearn.linear_model import LinearRegression\n",
    "model=LinearRegression()\n",
    "model=model.fit(x_train,y_train)\n",
    "rsq=model.score(x_train,y_train)\n",
    "rsq"
   ]
  },
  {
   "cell_type": "code",
   "execution_count": 100,
   "id": "f2c8d01a-f5f8-4eff-897e-49576fd52d74",
   "metadata": {},
   "outputs": [
    {
     "data": {
      "text/plain": [
       "array([0.74840816, 1.57514408, 1.10050527, ..., 0.9295685 , 1.59953141,\n",
       "       1.77049671])"
      ]
     },
     "execution_count": 100,
     "metadata": {},
     "output_type": "execute_result"
    }
   ],
   "source": [
    "from sklearn.metrics import accuracy_score\n",
    "yhat = model.predict(x_test)\n",
    "yhat"
   ]
  },
  {
   "cell_type": "code",
   "execution_count": null,
   "id": "906bbddc-a672-4b2f-84b5-7a3ef9a579c6",
   "metadata": {},
   "outputs": [],
   "source": []
  },
  {
   "cell_type": "code",
   "execution_count": null,
   "id": "7e607c54-4948-4d9d-af10-07517b125066",
   "metadata": {},
   "outputs": [],
   "source": []
  }
 ],
 "metadata": {
  "kernelspec": {
   "display_name": "Python 3 (ipykernel)",
   "language": "python",
   "name": "python3"
  },
  "language_info": {
   "codemirror_mode": {
    "name": "ipython",
    "version": 3
   },
   "file_extension": ".py",
   "mimetype": "text/x-python",
   "name": "python",
   "nbconvert_exporter": "python",
   "pygments_lexer": "ipython3",
   "version": "3.9.7"
  }
 },
 "nbformat": 4,
 "nbformat_minor": 5
}
